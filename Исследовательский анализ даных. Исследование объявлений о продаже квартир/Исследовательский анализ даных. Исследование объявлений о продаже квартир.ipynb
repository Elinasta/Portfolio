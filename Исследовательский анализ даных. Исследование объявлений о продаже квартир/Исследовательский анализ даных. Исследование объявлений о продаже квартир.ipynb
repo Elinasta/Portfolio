{
 "cells": [
  {
   "cell_type": "markdown",
   "metadata": {
    "toc": true
   },
   "source": [
    "<h1>Содержание<span class=\"tocSkip\"></span></h1>\n",
    "<div class=\"toc\"><ul class=\"toc-item\"><li><span><a href=\"#Изучение-данных-из-файла\" data-toc-modified-id=\"Изучение-данных-из-файла-1\"><span class=\"toc-item-num\">1&nbsp;&nbsp;</span>Изучение данных из файла</a></span></li><li><span><a href=\"#Предобработка-данных\" data-toc-modified-id=\"Предобработка-данных-2\"><span class=\"toc-item-num\">2&nbsp;&nbsp;</span>Предобработка данных</a></span><ul class=\"toc-item\"><li><span><a href=\"#Замена-типа-данных\" data-toc-modified-id=\"Замена-типа-данных-2.1\"><span class=\"toc-item-num\">2.1&nbsp;&nbsp;</span>Замена типа данных</a></span></li><li><span><a href=\"#Обработка-пропусков\" data-toc-modified-id=\"Обработка-пропусков-2.2\"><span class=\"toc-item-num\">2.2&nbsp;&nbsp;</span>Обработка пропусков</a></span></li></ul></li><li><span><a href=\"#Расчёты-и-добавление-результатов-в-таблицу\" data-toc-modified-id=\"Расчёты-и-добавление-результатов-в-таблицу-3\"><span class=\"toc-item-num\">3&nbsp;&nbsp;</span>Расчёты и добавление результатов в таблицу</a></span></li><li><span><a href=\"#Исследовательский-анализ-данных\" data-toc-modified-id=\"Исследовательский-анализ-данных-4\"><span class=\"toc-item-num\">4&nbsp;&nbsp;</span>Исследовательский анализ данных</a></span><ul class=\"toc-item\"><li><span><a href=\"#Общая-выборка\" data-toc-modified-id=\"Общая-выборка-4.1\"><span class=\"toc-item-num\">4.1&nbsp;&nbsp;</span>Общая выборка</a></span></li><li><span><a href=\"#Центр-Санкт-Петербурга\" data-toc-modified-id=\"Центр-Санкт-Петербурга-4.2\"><span class=\"toc-item-num\">4.2&nbsp;&nbsp;</span>Центр Санкт-Петербурга</a></span></li></ul></li><li><span><a href=\"#Общий-вывод\" data-toc-modified-id=\"Общий-вывод-5\"><span class=\"toc-item-num\">5&nbsp;&nbsp;</span>Общий вывод</a></span></li><li><span><a href=\"#Чек-лист-готовности-проекта\" data-toc-modified-id=\"Чек-лист-готовности-проекта-6\"><span class=\"toc-item-num\">6&nbsp;&nbsp;</span>Чек-лист готовности проекта</a></span></li></ul></div>"
   ]
  },
  {
   "cell_type": "markdown",
   "metadata": {},
   "source": [
    "# Исследование объявлений о продаже квартир\n",
    "\n",
    "В вашем распоряжении данные сервиса Яндекс.Недвижимость — архив объявлений о продаже квартир в Санкт-Петербурге и соседних населённых пунктах за несколько лет. Нужно научиться определять рыночную стоимость объектов недвижимости. Задача — установить параметры. Это позволит построить автоматизированную систему: она отследит аномалии и мошенническую деятельность. \n",
    "\n",
    "По каждой квартире на продажу доступны два вида данных. Первые вписаны пользователем, вторые получены автоматически на основе картографических данных. Например, расстояние до центра, аэропорта, ближайшего парка и водоёма. "
   ]
  },
  {
   "cell_type": "markdown",
   "metadata": {},
   "source": [
    "## Изучение данных из файла"
   ]
  },
  {
   "cell_type": "code",
   "execution_count": 1,
   "metadata": {
    "scrolled": true
   },
   "outputs": [
    {
     "name": "stdout",
     "output_type": "stream",
     "text": [
      "<class 'pandas.core.frame.DataFrame'>\n",
      "RangeIndex: 23699 entries, 0 to 23698\n",
      "Data columns (total 22 columns):\n",
      "total_images            23699 non-null int64\n",
      "last_price              23699 non-null object\n",
      "total_area              23699 non-null object\n",
      "first_day_exposition    23699 non-null object\n",
      "rooms                   23699 non-null int64\n",
      "ceiling_height          14504 non-null object\n",
      "floors_total            23613 non-null object\n",
      "living_area             21796 non-null object\n",
      "floor                   23699 non-null int64\n",
      "is_apartment            2775 non-null object\n",
      "studio                  23699 non-null bool\n",
      "open_plan               23699 non-null bool\n",
      "kitchen_area            21421 non-null object\n",
      "balcony                 12180 non-null object\n",
      "locality_name           23650 non-null object\n",
      "airports_nearest        18157 non-null object\n",
      "cityCenters_nearest     18180 non-null object\n",
      "parks_around3000        18181 non-null object\n",
      "parks_nearest           8079 non-null object\n",
      "ponds_around3000        18181 non-null object\n",
      "ponds_nearest           9110 non-null object\n",
      "days_exposition         20518 non-null object\n",
      "dtypes: bool(2), int64(3), object(17)\n",
      "memory usage: 3.7+ MB\n"
     ]
    }
   ],
   "source": [
    "import pandas as pd\n",
    "df = pd.read_csv('/datasets/real_estate_data.csv', sep='\\t', decimal=',')\n",
    "df.info()"
   ]
  },
  {
   "cell_type": "markdown",
   "metadata": {},
   "source": [
    "Рассмотрим общую информацию о данных таблицы. Всего в таблице 23699 наблюдений и 22 столбца: 3 - с числовыми данными, 2 - с булевыми значениями и 17 - типа object.\n",
    "В ряде переменных имеются пропуски."
   ]
  },
  {
   "cell_type": "code",
   "execution_count": 2,
   "metadata": {
    "scrolled": true
   },
   "outputs": [
    {
     "data": {
      "text/html": [
       "<div>\n",
       "<style scoped>\n",
       "    .dataframe tbody tr th:only-of-type {\n",
       "        vertical-align: middle;\n",
       "    }\n",
       "\n",
       "    .dataframe tbody tr th {\n",
       "        vertical-align: top;\n",
       "    }\n",
       "\n",
       "    .dataframe thead th {\n",
       "        text-align: right;\n",
       "    }\n",
       "</style>\n",
       "<table border=\"1\" class=\"dataframe\">\n",
       "  <thead>\n",
       "    <tr style=\"text-align: right;\">\n",
       "      <th></th>\n",
       "      <th>total_images</th>\n",
       "      <th>last_price</th>\n",
       "      <th>total_area</th>\n",
       "      <th>first_day_exposition</th>\n",
       "      <th>rooms</th>\n",
       "      <th>ceiling_height</th>\n",
       "      <th>floors_total</th>\n",
       "      <th>living_area</th>\n",
       "      <th>floor</th>\n",
       "      <th>is_apartment</th>\n",
       "      <th>...</th>\n",
       "      <th>kitchen_area</th>\n",
       "      <th>balcony</th>\n",
       "      <th>locality_name</th>\n",
       "      <th>airports_nearest</th>\n",
       "      <th>cityCenters_nearest</th>\n",
       "      <th>parks_around3000</th>\n",
       "      <th>parks_nearest</th>\n",
       "      <th>ponds_around3000</th>\n",
       "      <th>ponds_nearest</th>\n",
       "      <th>days_exposition</th>\n",
       "    </tr>\n",
       "  </thead>\n",
       "  <tbody>\n",
       "    <tr>\n",
       "      <td>0</td>\n",
       "      <td>20</td>\n",
       "      <td>13000000.0</td>\n",
       "      <td>108.0</td>\n",
       "      <td>2019-03-07T00:00:00</td>\n",
       "      <td>3</td>\n",
       "      <td>2.7</td>\n",
       "      <td>16.0</td>\n",
       "      <td>51.0</td>\n",
       "      <td>8</td>\n",
       "      <td>NaN</td>\n",
       "      <td>...</td>\n",
       "      <td>25.0</td>\n",
       "      <td>NaN</td>\n",
       "      <td>Санкт-Петербург</td>\n",
       "      <td>18863.0</td>\n",
       "      <td>16028.0</td>\n",
       "      <td>1.0</td>\n",
       "      <td>482.0</td>\n",
       "      <td>2.0</td>\n",
       "      <td>755.0</td>\n",
       "      <td>NaN</td>\n",
       "    </tr>\n",
       "    <tr>\n",
       "      <td>1</td>\n",
       "      <td>7</td>\n",
       "      <td>3350000.0</td>\n",
       "      <td>40.4</td>\n",
       "      <td>2018-12-04T00:00:00</td>\n",
       "      <td>1</td>\n",
       "      <td>NaN</td>\n",
       "      <td>11.0</td>\n",
       "      <td>18.6</td>\n",
       "      <td>1</td>\n",
       "      <td>NaN</td>\n",
       "      <td>...</td>\n",
       "      <td>11.0</td>\n",
       "      <td>2.0</td>\n",
       "      <td>посёлок Шушары</td>\n",
       "      <td>12817.0</td>\n",
       "      <td>18603.0</td>\n",
       "      <td>0.0</td>\n",
       "      <td>NaN</td>\n",
       "      <td>0.0</td>\n",
       "      <td>NaN</td>\n",
       "      <td>81.0</td>\n",
       "    </tr>\n",
       "    <tr>\n",
       "      <td>2</td>\n",
       "      <td>10</td>\n",
       "      <td>5196000.0</td>\n",
       "      <td>56.0</td>\n",
       "      <td>2015-08-20T00:00:00</td>\n",
       "      <td>2</td>\n",
       "      <td>NaN</td>\n",
       "      <td>5.0</td>\n",
       "      <td>34.3</td>\n",
       "      <td>4</td>\n",
       "      <td>NaN</td>\n",
       "      <td>...</td>\n",
       "      <td>8.3</td>\n",
       "      <td>0.0</td>\n",
       "      <td>Санкт-Петербург</td>\n",
       "      <td>21741.0</td>\n",
       "      <td>13933.0</td>\n",
       "      <td>1.0</td>\n",
       "      <td>90.0</td>\n",
       "      <td>2.0</td>\n",
       "      <td>574.0</td>\n",
       "      <td>558.0</td>\n",
       "    </tr>\n",
       "    <tr>\n",
       "      <td>3</td>\n",
       "      <td>0</td>\n",
       "      <td>64900000.0</td>\n",
       "      <td>159.0</td>\n",
       "      <td>2015-07-24T00:00:00</td>\n",
       "      <td>3</td>\n",
       "      <td>NaN</td>\n",
       "      <td>14.0</td>\n",
       "      <td>NaN</td>\n",
       "      <td>9</td>\n",
       "      <td>NaN</td>\n",
       "      <td>...</td>\n",
       "      <td>NaN</td>\n",
       "      <td>0.0</td>\n",
       "      <td>Санкт-Петербург</td>\n",
       "      <td>28098.0</td>\n",
       "      <td>6800.0</td>\n",
       "      <td>2.0</td>\n",
       "      <td>84.0</td>\n",
       "      <td>3.0</td>\n",
       "      <td>234.0</td>\n",
       "      <td>424.0</td>\n",
       "    </tr>\n",
       "    <tr>\n",
       "      <td>4</td>\n",
       "      <td>2</td>\n",
       "      <td>10000000.0</td>\n",
       "      <td>100.0</td>\n",
       "      <td>2018-06-19T00:00:00</td>\n",
       "      <td>2</td>\n",
       "      <td>3.03</td>\n",
       "      <td>14.0</td>\n",
       "      <td>32.0</td>\n",
       "      <td>13</td>\n",
       "      <td>NaN</td>\n",
       "      <td>...</td>\n",
       "      <td>41.0</td>\n",
       "      <td>NaN</td>\n",
       "      <td>Санкт-Петербург</td>\n",
       "      <td>31856.0</td>\n",
       "      <td>8098.0</td>\n",
       "      <td>2.0</td>\n",
       "      <td>112.0</td>\n",
       "      <td>1.0</td>\n",
       "      <td>48.0</td>\n",
       "      <td>121.0</td>\n",
       "    </tr>\n",
       "  </tbody>\n",
       "</table>\n",
       "<p>5 rows × 22 columns</p>\n",
       "</div>"
      ],
      "text/plain": [
       "   total_images  last_price total_area first_day_exposition  rooms  \\\n",
       "0            20  13000000.0      108.0  2019-03-07T00:00:00      3   \n",
       "1             7   3350000.0       40.4  2018-12-04T00:00:00      1   \n",
       "2            10   5196000.0       56.0  2015-08-20T00:00:00      2   \n",
       "3             0  64900000.0      159.0  2015-07-24T00:00:00      3   \n",
       "4             2  10000000.0      100.0  2018-06-19T00:00:00      2   \n",
       "\n",
       "  ceiling_height floors_total living_area  floor is_apartment  ...  \\\n",
       "0            2.7         16.0        51.0      8          NaN  ...   \n",
       "1            NaN         11.0        18.6      1          NaN  ...   \n",
       "2            NaN          5.0        34.3      4          NaN  ...   \n",
       "3            NaN         14.0         NaN      9          NaN  ...   \n",
       "4           3.03         14.0        32.0     13          NaN  ...   \n",
       "\n",
       "   kitchen_area  balcony    locality_name airports_nearest  \\\n",
       "0          25.0      NaN  Санкт-Петербург          18863.0   \n",
       "1          11.0      2.0   посёлок Шушары          12817.0   \n",
       "2           8.3      0.0  Санкт-Петербург          21741.0   \n",
       "3           NaN      0.0  Санкт-Петербург          28098.0   \n",
       "4          41.0      NaN  Санкт-Петербург          31856.0   \n",
       "\n",
       "  cityCenters_nearest parks_around3000 parks_nearest ponds_around3000  \\\n",
       "0             16028.0              1.0         482.0              2.0   \n",
       "1             18603.0              0.0           NaN              0.0   \n",
       "2             13933.0              1.0          90.0              2.0   \n",
       "3              6800.0              2.0          84.0              3.0   \n",
       "4              8098.0              2.0         112.0              1.0   \n",
       "\n",
       "  ponds_nearest days_exposition  \n",
       "0         755.0             NaN  \n",
       "1           NaN            81.0  \n",
       "2         574.0           558.0  \n",
       "3         234.0           424.0  \n",
       "4          48.0           121.0  \n",
       "\n",
       "[5 rows x 22 columns]"
      ]
     },
     "execution_count": 2,
     "metadata": {},
     "output_type": "execute_result"
    }
   ],
   "source": [
    "df.head()"
   ]
  },
  {
   "cell_type": "markdown",
   "metadata": {},
   "source": [
    "Каждая строка таблицы содержит информацию об одном жилом объекте. \n",
    "Для проверки рабочих гипотез особенно ценны столбцы:\n",
    "- living_area, kitchen_area, total_area* - площадь (жилая, кухня и общая) \n",
    "- last_price* - цена\n",
    "- ceiling_height - высота потолков  \n",
    "- days_exposition - время продажи квартиры (сколько дней было размещено объявление от публикации до снятия)\n",
    "- rooms* - число комнат \n",
    "- cityCenters_nearest - удалённость от центра\n",
    "- floor* - этаж\n",
    "- first_day_exposition* - дата размещения объявления\n",
    "\n",
    "*в данных столбцах нет пропусков данных"
   ]
  },
  {
   "cell_type": "code",
   "execution_count": 3,
   "metadata": {},
   "outputs": [
    {
     "name": "stdout",
     "output_type": "stream",
     "text": [
      "[ 1  2  3  4  5  6  7  8  9 10 11 12 13 14 15 16 17 18 19 20 21 22 23 24\n",
      " 25 26 27 28 29 30 31 32 33]\n",
      "[ 0  1  2  3  4  5  6  7  8  9 10 11 12 14 15 16 19]\n"
     ]
    }
   ],
   "source": [
    "print(df['floor'].sort_values().unique())\n",
    "print(df['rooms'].sort_values().unique())"
   ]
  },
  {
   "cell_type": "markdown",
   "metadata": {},
   "source": [
    "Расммотрим уникальные значения переменных, для которых это возможно сделать. \n",
    "Варианты количества этажей выглядят правдоподобно. А вот 0 комнат и 6-ти и более -комнатное жилье кажется странным. Вернемся к этому после замены типа данных."
   ]
  },
  {
   "cell_type": "markdown",
   "metadata": {},
   "source": [
    "## Предобработка данных"
   ]
  },
  {
   "cell_type": "markdown",
   "metadata": {},
   "source": [
    "### Замена типа данных"
   ]
  },
  {
   "cell_type": "code",
   "execution_count": 5,
   "metadata": {},
   "outputs": [],
   "source": [
    "df['living_area'] = df['living_area'].astype('float')\n",
    "df['kitchen_area'] = df['kitchen_area'].astype('float')\n",
    "df['total_area'] = df['total_area'].astype('float')\n",
    "df['ceiling_height'] = df['ceiling_height'].astype('float')\n",
    "df['days_exposition'] = df['days_exposition'].astype('float')\n",
    "df['cityCenters_nearest'] = df['cityCenters_nearest'].astype('float')\n",
    " \n",
    "df['last_price'] = df['last_price'].astype('float').astype('int')\n",
    "\n",
    "df['first_day_exposition'] = pd.to_datetime(df['first_day_exposition'], format='%Y-%m-%dT%H:%M:%S')"
   ]
  },
  {
   "cell_type": "markdown",
   "metadata": {},
   "source": [
    "Для удобства дальнейшего анализа переведем типы данных интересующих нас переменных в подходящие:\n",
    "- площади и высоту потолка в float. days_exposition и cityCenters_nearest тоже переведем в float, тк в столбцах имеются пропуски, а заменить их на основе имеющихся данных мы не можем\n",
    "- цену, удаленность от центра и количества дней размещения - в целочисленный формат\n",
    "- дату публикации объявления - в формат даты"
   ]
  },
  {
   "cell_type": "code",
   "execution_count": 6,
   "metadata": {},
   "outputs": [
    {
     "name": "stdout",
     "output_type": "stream",
     "text": [
      "6\n"
     ]
    }
   ],
   "source": [
    "print(df[df['living_area']<6]['living_area'].count())\n",
    "df = df.drop(df[df['living_area'] < 6].index)"
   ]
  },
  {
   "cell_type": "markdown",
   "metadata": {},
   "source": [
    "Теперь вернемся к подозрительным значениям rooms. Для того, чтобы посмотреть соотношение количества комнат и жилплощади, избавимся от нереалистично маленьких значений жилплощади. Минимальная санитарная норма жилплощади в РФ составляет 6 кв метров. Всего значений меньше этого значения в датасете 6 штук. Удалим эти строки."
   ]
  },
  {
   "cell_type": "code",
   "execution_count": 7,
   "metadata": {},
   "outputs": [
    {
     "name": "stdout",
     "output_type": "stream",
     "text": [
      "195\n",
      "195\n",
      "90\n"
     ]
    },
    {
     "data": {
      "image/png": "[encoded data removed]",
      "text/plain": [
       "<Figure size 432x288 with 1 Axes>"
      ]
     },
     "metadata": {
      "needs_background": "light"
     },
     "output_type": "display_data"
    }
   ],
   "source": [
    "print(df.query('rooms==0')['rooms'].count())\n",
    "print(df.query('rooms==0 and (studio==True or open_plan==True)')['rooms'].count())\n",
    "\n",
    "df.plot(kind='scatter', x='rooms', y='living_area', alpha = 0.5)\n",
    "\n",
    "print(df[df['rooms'] > 6]['rooms'].count())\n",
    "df = df.drop(df[df['rooms'] > 6].index)"
   ]
  },
  {
   "cell_type": "code",
   "execution_count": 8,
   "metadata": {
    "scrolled": true
   },
   "outputs": [
    {
     "data": {
      "text/plain": [
       "<matplotlib.axes._subplots.AxesSubplot at 0x7fa35e6ec2d0>"
      ]
     },
     "execution_count": 8,
     "metadata": {},
     "output_type": "execute_result"
    },
    {
     "data": {
      "image/png": "[encoded data removed]",
      "text/plain": [
       "<Figure size 432x288 with 1 Axes>"
      ]
     },
     "metadata": {
      "needs_background": "light"
     },
     "output_type": "display_data"
    }
   ],
   "source": [
    "df.boxplot('rooms')"
   ]
  },
  {
   "cell_type": "markdown",
   "metadata": {},
   "source": [
    "Все жилье с нулевым числом комнат относится либо к студиям, либо к квартирам с открытой планировкой. На диаграмме рассеяния видим, что это, как правило, жилье с относительно маленькой жилплощадью. Не будем заменять/исключать нули в столбце rooms.\n",
    "Больше 6 комнат - явление довольно редкое, удалим 89 жилых объектов, в которых 7 и больше комнат."
   ]
  },
  {
   "cell_type": "markdown",
   "metadata": {},
   "source": [
    "### Обработка пропусков"
   ]
  },
  {
   "cell_type": "code",
   "execution_count": 9,
   "metadata": {
    "scrolled": true
   },
   "outputs": [
    {
     "name": "stdout",
     "output_type": "stream",
     "text": [
      "0.9333177375702164\n",
      "0.8406801585421108\n"
     ]
    }
   ],
   "source": [
    "print(df['living_area'].corr(df['total_area']))\n",
    "print(df['living_area'].corr(df['rooms']))"
   ]
  },
  {
   "cell_type": "markdown",
   "metadata": {},
   "source": [
    "Для замены пропусков в столбце living_area корреляцию его значений со значениями total_area и rooms - корреляция положительная и довольно высокая, это согласуется с физическим смыслом даных переменных. "
   ]
  },
  {
   "cell_type": "code",
   "execution_count": 10,
   "metadata": {},
   "outputs": [
    {
     "name": "stdout",
     "output_type": "stream",
     "text": [
      "count    23603.000000\n",
      "mean        59.515137\n",
      "std         32.013501\n",
      "min         12.000000\n",
      "25%         40.000000\n",
      "50%         52.000000\n",
      "75%         69.200000\n",
      "max        507.000000\n",
      "Name: total_area, dtype: float64\n"
     ]
    }
   ],
   "source": [
    "print(df['total_area'].describe())\n",
    "\n",
    "def define_total_area_group(total_area):\n",
    "    if total_area <= 40:\n",
    "        return 'small'\n",
    "    if total_area <= 52:\n",
    "        return 'medium_small'\n",
    "    if total_area <= 69:\n",
    "        return 'medium_big'\n",
    "    return 'big'\n",
    "\n",
    "df['total_area_group'] = df['total_area'].apply(define_total_area_group)"
   ]
  },
  {
   "cell_type": "markdown",
   "metadata": {},
   "source": [
    "Напишем функцию для распределения total_area по квартилям и применим ее к данному столбцу."
   ]
  },
  {
   "cell_type": "code",
   "execution_count": 11,
   "metadata": {},
   "outputs": [
    {
     "data": {
      "text/html": [
       "<div>\n",
       "<style scoped>\n",
       "    .dataframe tbody tr th:only-of-type {\n",
       "        vertical-align: middle;\n",
       "    }\n",
       "\n",
       "    .dataframe tbody tr th {\n",
       "        vertical-align: top;\n",
       "    }\n",
       "\n",
       "    .dataframe thead th {\n",
       "        text-align: right;\n",
       "    }\n",
       "</style>\n",
       "<table border=\"1\" class=\"dataframe\">\n",
       "  <thead>\n",
       "    <tr style=\"text-align: right;\">\n",
       "      <th></th>\n",
       "      <th>total_area_group</th>\n",
       "      <th>rooms</th>\n",
       "      <th>living_area</th>\n",
       "    </tr>\n",
       "  </thead>\n",
       "  <tbody>\n",
       "    <tr>\n",
       "      <td>0</td>\n",
       "      <td>big</td>\n",
       "      <td>0</td>\n",
       "      <td>60.50</td>\n",
       "    </tr>\n",
       "    <tr>\n",
       "      <td>1</td>\n",
       "      <td>big</td>\n",
       "      <td>1</td>\n",
       "      <td>38.60</td>\n",
       "    </tr>\n",
       "    <tr>\n",
       "      <td>2</td>\n",
       "      <td>big</td>\n",
       "      <td>2</td>\n",
       "      <td>39.70</td>\n",
       "    </tr>\n",
       "    <tr>\n",
       "      <td>3</td>\n",
       "      <td>big</td>\n",
       "      <td>3</td>\n",
       "      <td>49.87</td>\n",
       "    </tr>\n",
       "    <tr>\n",
       "      <td>4</td>\n",
       "      <td>big</td>\n",
       "      <td>4</td>\n",
       "      <td>67.00</td>\n",
       "    </tr>\n",
       "  </tbody>\n",
       "</table>\n",
       "</div>"
      ],
      "text/plain": [
       "  total_area_group  rooms  living_area\n",
       "0              big      0        60.50\n",
       "1              big      1        38.60\n",
       "2              big      2        39.70\n",
       "3              big      3        49.87\n",
       "4              big      4        67.00"
      ]
     },
     "execution_count": 11,
     "metadata": {},
     "output_type": "execute_result"
    }
   ],
   "source": [
    "living_area_median_pivot = df.pivot_table(index=['total_area_group', 'rooms'], values='living_area', aggfunc='median').reset_index()\n",
    "living_area_median_pivot.head()"
   ]
  },
  {
   "cell_type": "markdown",
   "metadata": {},
   "source": [
    "Создадим сводную по числу комнат и группам общей площади. "
   ]
  },
  {
   "cell_type": "code",
   "execution_count": 12,
   "metadata": {
    "scrolled": true
   },
   "outputs": [],
   "source": [
    "import math\n",
    "\n",
    "def fill_living_area(x):\n",
    "    living_area_median_col = living_area_median_pivot[\n",
    "                              (living_area_median_pivot['total_area_group'] == x['total_area_group'])&\n",
    "                              (living_area_median_pivot['rooms'] == x['rooms'])\n",
    "                            ]['living_area']\n",
    "    living_area_group_median = living_area_median_col.iloc[0] if len(living_area_median_col) > 0 else 0\n",
    "    return living_area_group_median if math.isnan(x['living_area']) else x['living_area']\n",
    "\n",
    "df.loc[:, 'living_area'] = df.apply(fill_living_area, axis=1)"
   ]
  },
  {
   "cell_type": "markdown",
   "metadata": {},
   "source": [
    "Напишем функцию, которая по группе условий подтягивает значения медианной жилплощади из сводной таблицы living_area_median_pivot в столбец living_area исходного датафрейма."
   ]
  },
  {
   "cell_type": "code",
   "execution_count": 13,
   "metadata": {},
   "outputs": [
    {
     "name": "stdout",
     "output_type": "stream",
     "text": [
      "148\n",
      "0.7267626457697283\n"
     ]
    }
   ],
   "source": [
    "df['non_leaving_area'] = df['total_area'] - df['living_area']\n",
    "print(df[df['non_leaving_area']<6]['non_leaving_area'].count())\n",
    "df = df.drop(df[df['non_leaving_area'] < 6].index)\n",
    "print(df['kitchen_area'].corr(df['non_leaving_area']))"
   ]
  },
  {
   "cell_type": "markdown",
   "metadata": {},
   "source": [
    "Вероятнее всего размер кухни сильнее всего коррелирует с нежилой площадью жилья. Создадим столбец non_leaving_area, значения которого равны разности общей и жилой площадей. \n",
    "В новом столбце проверим аномальные значения. Предположим, что нежилая площадь (включая санузел, кухню, коридор, балкон) также не может быть меньше 6 кв м. Всего значений меньше 6 в датасете 149 штук - это меньше 1% оставшейся выборки. Избавимся также от этих значений.\n",
    "Корреляция средняя, но за неимением лучшего используем группировку по non_leaving_area для расчета групповых медиан площади кухни."
   ]
  },
  {
   "cell_type": "code",
   "execution_count": 14,
   "metadata": {},
   "outputs": [
    {
     "name": "stdout",
     "output_type": "stream",
     "text": [
      "count    23455.000000\n",
      "mean        25.781847\n",
      "std         16.374505\n",
      "min          6.000000\n",
      "25%         17.000000\n",
      "50%         22.000000\n",
      "75%         29.000000\n",
      "max        455.500000\n",
      "Name: non_leaving_area, dtype: float64\n"
     ]
    }
   ],
   "source": [
    "print(df['non_leaving_area'].describe())\n",
    "\n",
    "def define_non_leaving_area_group(non_leaving_area):\n",
    "    if non_leaving_area <= 17:\n",
    "        return 'small'\n",
    "    if non_leaving_area <= 22:\n",
    "        return 'medium_small'\n",
    "    if non_leaving_area <= 29:\n",
    "        return 'medium_big'\n",
    "    return 'big'\n",
    "\n",
    "df['non_leaving_area_group'] = df['non_leaving_area'].apply(define_non_leaving_area_group)"
   ]
  },
  {
   "cell_type": "code",
   "execution_count": 15,
   "metadata": {},
   "outputs": [
    {
     "data": {
      "text/html": [
       "<div>\n",
       "<style scoped>\n",
       "    .dataframe tbody tr th:only-of-type {\n",
       "        vertical-align: middle;\n",
       "    }\n",
       "\n",
       "    .dataframe tbody tr th {\n",
       "        vertical-align: top;\n",
       "    }\n",
       "\n",
       "    .dataframe thead th {\n",
       "        text-align: right;\n",
       "    }\n",
       "</style>\n",
       "<table border=\"1\" class=\"dataframe\">\n",
       "  <thead>\n",
       "    <tr style=\"text-align: right;\">\n",
       "      <th></th>\n",
       "      <th>non_leaving_area_group</th>\n",
       "      <th>kitchen_area</th>\n",
       "    </tr>\n",
       "  </thead>\n",
       "  <tbody>\n",
       "    <tr>\n",
       "      <td>0</td>\n",
       "      <td>big</td>\n",
       "      <td>14.0</td>\n",
       "    </tr>\n",
       "    <tr>\n",
       "      <td>1</td>\n",
       "      <td>medium_big</td>\n",
       "      <td>10.0</td>\n",
       "    </tr>\n",
       "    <tr>\n",
       "      <td>2</td>\n",
       "      <td>medium_small</td>\n",
       "      <td>8.4</td>\n",
       "    </tr>\n",
       "    <tr>\n",
       "      <td>3</td>\n",
       "      <td>small</td>\n",
       "      <td>6.2</td>\n",
       "    </tr>\n",
       "  </tbody>\n",
       "</table>\n",
       "</div>"
      ],
      "text/plain": [
       "  non_leaving_area_group  kitchen_area\n",
       "0                    big          14.0\n",
       "1             medium_big          10.0\n",
       "2           medium_small           8.4\n",
       "3                  small           6.2"
      ]
     },
     "execution_count": 15,
     "metadata": {},
     "output_type": "execute_result"
    }
   ],
   "source": [
    "kitchen_area_median_pivot = df.pivot_table(index=['non_leaving_area_group'], values='kitchen_area', aggfunc='median').reset_index()\n",
    "kitchen_area_median_pivot.head()"
   ]
  },
  {
   "cell_type": "code",
   "execution_count": 16,
   "metadata": {},
   "outputs": [],
   "source": [
    "def fill_kitchen_area(x):\n",
    "    kitchen_area_median_col = kitchen_area_median_pivot[\n",
    "                              kitchen_area_median_pivot['non_leaving_area_group'] == x['non_leaving_area_group']\n",
    "                            ]['kitchen_area']\n",
    "    kitchen_area_group_median = kitchen_area_median_col.iloc[0] if len(kitchen_area_median_col) > 0 else 0\n",
    "    return kitchen_area_group_median if math.isnan(x['kitchen_area']) else x['kitchen_area']\n",
    "\n",
    "df.loc[:, 'kitchen_area'] = df.apply(fill_kitchen_area, axis=1)"
   ]
  },
  {
   "cell_type": "markdown",
   "metadata": {},
   "source": [
    "По аналогии заполняем пропуски в kitchen_area."
   ]
  },
  {
   "cell_type": "code",
   "execution_count": 17,
   "metadata": {
    "scrolled": true
   },
   "outputs": [
    {
     "name": "stdout",
     "output_type": "stream",
     "text": [
      "72\n",
      "count    14296.000000\n",
      "mean         2.769140\n",
      "std          1.251338\n",
      "min          2.500000\n",
      "25%          2.520000\n",
      "50%          2.650000\n",
      "75%          2.800000\n",
      "max        100.000000\n",
      "Name: ceiling_height, dtype: float64\n"
     ]
    },
    {
     "data": {
      "text/plain": [
       "<matplotlib.axes._subplots.AxesSubplot at 0x7fa35598ca50>"
      ]
     },
     "execution_count": 17,
     "metadata": {},
     "output_type": "execute_result"
    },
    {
     "data": {
      "image/png": "[encoded data removed]",
      "text/plain": [
       "<Figure size 432x288 with 1 Axes>"
      ]
     },
     "metadata": {
      "needs_background": "light"
     },
     "output_type": "display_data"
    },
    {
     "data": {
      "image/png": "[encoded data removed]",
      "text/plain": [
       "<Figure size 432x288 with 1 Axes>"
      ]
     },
     "metadata": {
      "needs_background": "light"
     },
     "output_type": "display_data"
    }
   ],
   "source": [
    "print(df[df['ceiling_height']<2.5]['ceiling_height'].count())\n",
    "df = df.drop(df[df['ceiling_height']<2.5].index)\n",
    "print(df['ceiling_height'].describe())\n",
    "df.plot(y='ceiling_height', kind='hist', bins=100, grid=True, title='ceiling_height')\n",
    "df.plot(y='ceiling_height', kind='hist', bins=100, range=(2.5, 5), grid=True, title='ceiling_height_scaled')"
   ]
  },
  {
   "cell_type": "code",
   "execution_count": 18,
   "metadata": {},
   "outputs": [
    {
     "name": "stdout",
     "output_type": "stream",
     "text": [
      "34\n"
     ]
    }
   ],
   "source": [
    "print(df[df['ceiling_height']>5]['ceiling_height'].count())\n",
    "df = df.drop(df[df['ceiling_height']>5].index)"
   ]
  },
  {
   "cell_type": "markdown",
   "metadata": {},
   "source": [
    "Санитарная норма высоты потолков составляет 2,5 метра. Значений ниже этого числа в выборке 72, избавимся от них.\n",
    "Описательная статистика показывает, что в ceiling_height есть также аномально большие значения. На графике видим, что типичное значение высоты потолка не превышает 5 метров. Значений больше 5 в таблице всего 34 - удалим и их тоже."
   ]
  },
  {
   "cell_type": "code",
   "execution_count": 20,
   "metadata": {},
   "outputs": [],
   "source": [
    "df['ceiling_height'] = df['ceiling_height'].fillna(df['ceiling_height'].median())"
   ]
  },
  {
   "cell_type": "code",
   "execution_count": 21,
   "metadata": {},
   "outputs": [
    {
     "data": {
      "text/plain": [
       "total_images                  0\n",
       "last_price                    0\n",
       "total_area                    0\n",
       "first_day_exposition          0\n",
       "rooms                         0\n",
       "ceiling_height                0\n",
       "floors_total                 86\n",
       "living_area                   0\n",
       "floor                         0\n",
       "is_apartment              20628\n",
       "studio                        0\n",
       "open_plan                     0\n",
       "kitchen_area                  0\n",
       "balcony                   11347\n",
       "locality_name                49\n",
       "airports_nearest           5438\n",
       "cityCenters_nearest        5416\n",
       "parks_around3000           5415\n",
       "parks_nearest             15407\n",
       "ponds_around3000           5415\n",
       "ponds_nearest             14383\n",
       "days_exposition            3125\n",
       "total_area_group              0\n",
       "non_leaving_area              0\n",
       "non_leaving_area_group        0\n",
       "dtype: int64"
      ]
     },
     "execution_count": 21,
     "metadata": {},
     "output_type": "execute_result"
    }
   ],
   "source": [
    "df.isnull().sum()"
   ]
  },
  {
   "cell_type": "code",
   "execution_count": 22,
   "metadata": {},
   "outputs": [],
   "source": [
    "df.dropna(subset = ['locality_name'], inplace = True)\n",
    "df['balcony'] = df['balcony'].fillna(0)\n",
    "df['is_apartment'] = df['is_apartment'].fillna(0)"
   ]
  },
  {
   "cell_type": "code",
   "execution_count": 23,
   "metadata": {},
   "outputs": [
    {
     "data": {
      "text/plain": [
       "total_images                  0\n",
       "last_price                    0\n",
       "total_area                    0\n",
       "first_day_exposition          0\n",
       "rooms                         0\n",
       "ceiling_height                0\n",
       "floors_total                 85\n",
       "living_area                   0\n",
       "floor                         0\n",
       "is_apartment                  0\n",
       "studio                        0\n",
       "open_plan                     0\n",
       "kitchen_area                  0\n",
       "balcony                       0\n",
       "locality_name                 0\n",
       "airports_nearest           5430\n",
       "cityCenters_nearest        5408\n",
       "parks_around3000           5407\n",
       "parks_nearest             15373\n",
       "ponds_around3000           5407\n",
       "ponds_nearest             14359\n",
       "days_exposition            3124\n",
       "total_area_group              0\n",
       "non_leaving_area              0\n",
       "non_leaving_area_group        0\n",
       "dtype: int64"
      ]
     },
     "execution_count": 23,
     "metadata": {},
     "output_type": "execute_result"
    }
   ],
   "source": [
    "df.isnull().sum()"
   ]
  },
  {
   "cell_type": "code",
   "execution_count": 24,
   "metadata": {},
   "outputs": [
    {
     "data": {
      "text/plain": [
       "0"
      ]
     },
     "execution_count": 24,
     "metadata": {},
     "output_type": "execute_result"
    }
   ],
   "source": [
    "df.duplicated().sum()"
   ]
  },
  {
   "cell_type": "markdown",
   "metadata": {},
   "source": [
    "Проверим, что в датасете нет дубликатов."
   ]
  },
  {
   "cell_type": "markdown",
   "metadata": {},
   "source": [
    "## Расчёты и добавление результатов в таблицу"
   ]
  },
  {
   "cell_type": "code",
   "execution_count": 25,
   "metadata": {},
   "outputs": [],
   "source": [
    "df['sq_meter_price'] = df['last_price']/df['total_area']"
   ]
  },
  {
   "cell_type": "markdown",
   "metadata": {},
   "source": [
    "Добавим столбец с ценой квадратного метра для каждого жилого объекта."
   ]
  },
  {
   "cell_type": "code",
   "execution_count": 26,
   "metadata": {},
   "outputs": [],
   "source": [
    "df['exposition_weekday'] = df['first_day_exposition'].dt.weekday\n",
    "df['exposition_month'] = df['first_day_exposition'].dt.month\n",
    "df['exposition_year'] = df['first_day_exposition'].dt.year"
   ]
  },
  {
   "cell_type": "markdown",
   "metadata": {},
   "source": [
    "Добавим в таблицу неделю, месяц и год публикации объявления."
   ]
  },
  {
   "cell_type": "code",
   "execution_count": 27,
   "metadata": {},
   "outputs": [],
   "source": [
    "df.dropna(subset = ['floors_total'], inplace = True)\n",
    "df['floors_total'] = df['floors_total'].astype('float').astype('int')"
   ]
  },
  {
   "cell_type": "markdown",
   "metadata": {},
   "source": [
    "Чтобы понять, является ли этаж последним, нужно сравнить его с общим количеством этажей в доме. Для этого переведем floors_total в целочисленный формат. Всего имеем 86 пропусков в floors_total. Это около 3%, но заменить эти пропуски на основе имеющихся данных будет сложно. Удалим их."
   ]
  },
  {
   "cell_type": "code",
   "execution_count": 28,
   "metadata": {
    "scrolled": true
   },
   "outputs": [],
   "source": [
    "def define_floor_group(x):\n",
    "     return 'первый' if  x['floor'] == 1 else 'последний' if x['floor'] == x['floors_total'] else 'другой'\n",
    "\n",
    "df.loc[:, 'floor_group'] = df.apply(define_floor_group, axis=1)"
   ]
  },
  {
   "cell_type": "markdown",
   "metadata": {},
   "source": [
    "Добавим категоризацию по этажам квартиры. Разделим все этажи на первый, последний и другой. Если всего в доме 1 этаж, то будем считать, что квартира расположена на первом этаже, а не на последнем."
   ]
  },
  {
   "cell_type": "code",
   "execution_count": 29,
   "metadata": {},
   "outputs": [],
   "source": [
    "df['living_to_total_area'] = df['living_area'] / df['total_area']\n",
    "df['kitchen_to_total_area'] = df['kitchen_area'] / df['total_area']"
   ]
  },
  {
   "cell_type": "markdown",
   "metadata": {},
   "source": [
    "Добавим в таблицу соотношение жилой и общей площади, а также отношение площади кухни к общей."
   ]
  },
  {
   "cell_type": "markdown",
   "metadata": {},
   "source": [
    "## Исследовательский анализ данных"
   ]
  },
  {
   "cell_type": "markdown",
   "metadata": {},
   "source": [
    "### Общая выборка"
   ]
  },
  {
   "cell_type": "markdown",
   "metadata": {},
   "source": [
    "Изучим следующие параметры: площадь, цена, число комнат, высота потолков. Построим гистограммы для каждого параметра."
   ]
  },
  {
   "cell_type": "code",
   "execution_count": 30,
   "metadata": {},
   "outputs": [
    {
     "data": {
      "text/plain": [
       "<matplotlib.axes._subplots.AxesSubplot at 0x7fa355c0f310>"
      ]
     },
     "execution_count": 30,
     "metadata": {},
     "output_type": "execute_result"
    },
    {
     "data": {
      "image/png": "[encoded data removed]",
      "text/plain": [
       "<Figure size 432x288 with 1 Axes>"
      ]
     },
     "metadata": {
      "needs_background": "light"
     },
     "output_type": "display_data"
    },
    {
     "data": {
      "image/png": "[encoded data removed]",
      "text/plain": [
       "<Figure size 432x288 with 1 Axes>"
      ]
     },
     "metadata": {
      "needs_background": "light"
     },
     "output_type": "display_data"
    },
    {
     "data": {
      "image/png": "[encoded data removed]",
      "text/plain": [
       "<Figure size 432x288 with 1 Axes>"
      ]
     },
     "metadata": {
      "needs_background": "light"
     },
     "output_type": "display_data"
    },
    {
     "data": {
      "image/png": "[encoded data removed]",
      "text/plain": [
       "<Figure size 432x288 with 1 Axes>"
      ]
     },
     "metadata": {
      "needs_background": "light"
     },
     "output_type": "display_data"
    }
   ],
   "source": [
    "df.plot(y='living_area', bins=100, kind='hist', grid=True, title='living_area')\n",
    "df.plot(y='living_area', xlim=(0, 100), bins=500, kind='hist', grid=True, title='living_area_scaled')\n",
    "df.plot(y='total_area', xlim=(17, 901), bins=200, kind='hist', grid=True, title='total_area')\n",
    "df.plot(y='total_area', xlim=(17, 100), bins=500, kind='hist', grid=True, title='total_area_scaled')"
   ]
  },
  {
   "cell_type": "markdown",
   "metadata": {},
   "source": [
    "- Основная часть значений жилплощади лежит в диапазоне от 1 до 100. Видим четыре пика - в районе 18, 30, 40 и 50 кв. метров. Это может быть связано с наиболее типичными вариантами жилья в Питере и области, например 15 - для однушки, 30 - для двушки и тд.\n",
    "- Распределение значений total_area имеет наивысший пик в районе 45 кв. м. В целом этот результат согласуется с распределением значений жилой площади."
   ]
  },
  {
   "cell_type": "code",
   "execution_count": 31,
   "metadata": {},
   "outputs": [
    {
     "name": "stdout",
     "output_type": "stream",
     "text": [
      "1\n"
     ]
    },
    {
     "data": {
      "image/png": "[encoded data removed]",
      "text/plain": [
       "<Figure size 432x288 with 1 Axes>"
      ]
     },
     "metadata": {
      "needs_background": "light"
     },
     "output_type": "display_data"
    },
    {
     "data": {
      "image/png": "[encoded data removed]",
      "text/plain": [
       "<Figure size 432x288 with 1 Axes>"
      ]
     },
     "metadata": {
      "needs_background": "light"
     },
     "output_type": "display_data"
    }
   ],
   "source": [
    "df['sq_meter_price_th'] = df['sq_meter_price'].div(1000)\n",
    "\n",
    "df.plot(y='sq_meter_price_th', bins=500, kind='hist', grid=True, title='sq_meter_price_th')\n",
    "df.plot(y='sq_meter_price_th', xlim=(0, 250), bins=1000, kind='hist', grid=True, title='sq_meter_price_th_scaled')\n",
    "\n",
    "print(df[df['sq_meter_price'] < 7000]['sq_meter_price'].count())\n",
    "df = df.drop(df[df['sq_meter_price'] < 7000].index)"
   ]
  },
  {
   "cell_type": "markdown",
   "metadata": {},
   "source": [
    "Для наглядности создадим переменнуюю sq_meter_price_th, в которой цена за кв.м поделена на тысячу.\n",
    "\n",
    "Распределение цены за квадратный метр похоже на нормальное и имеет пик в районе 100 тыс. руб. Странно выглядит только минимальное значение в 111 руб. К счастью, оно всего одно, удалим эту строку. "
   ]
  },
  {
   "cell_type": "code",
   "execution_count": 32,
   "metadata": {},
   "outputs": [
    {
     "data": {
      "text/plain": [
       "<matplotlib.axes._subplots.AxesSubplot at 0x7fa354658390>"
      ]
     },
     "execution_count": 32,
     "metadata": {},
     "output_type": "execute_result"
    },
    {
     "data": {
      "image/png": "[encoded data removed]",
      "text/plain": [
       "<Figure size 432x288 with 1 Axes>"
      ]
     },
     "metadata": {
      "needs_background": "light"
     },
     "output_type": "display_data"
    },
    {
     "data": {
      "image/png": "[encoded data removed]",
      "text/plain": [
       "<Figure size 432x288 with 1 Axes>"
      ]
     },
     "metadata": {
      "needs_background": "light"
     },
     "output_type": "display_data"
    }
   ],
   "source": [
    "df['last_price_mln'] = df['last_price'].div(1000000)\n",
    "df.plot(y='last_price_mln', bins=500, kind='hist', grid=True, title='last_price_mln')\n",
    "df.plot(y='last_price_mln', bins=1000, xlim=(0, 10), kind='hist', grid=True, title='last_price_mln_scaled')"
   ]
  },
  {
   "cell_type": "markdown",
   "metadata": {},
   "source": [
    "Для удобства анализа создадим столбец last_price_mln, где цена last_price переведена в миллионы. Самое частое значение близко к 4 миллионам и выглядит реалистично."
   ]
  },
  {
   "cell_type": "code",
   "execution_count": 33,
   "metadata": {},
   "outputs": [
    {
     "data": {
      "text/plain": [
       "<matplotlib.axes._subplots.AxesSubplot at 0x7fa3548c8e50>"
      ]
     },
     "execution_count": 33,
     "metadata": {},
     "output_type": "execute_result"
    },
    {
     "data": {
      "image/png": "[encoded data removed]",
      "text/plain": [
       "<Figure size 432x288 with 1 Axes>"
      ]
     },
     "metadata": {
      "needs_background": "light"
     },
     "output_type": "display_data"
    }
   ],
   "source": [
    "df.plot(y='rooms', bins=30, kind='hist', grid=True, title='rooms')"
   ]
  },
  {
   "cell_type": "markdown",
   "metadata": {},
   "source": [
    "Основная часть наблюдений сосредоточена в промежутке от 1 до 3, при этом чаще всего встречаются однушки и двушки, чуть реже - трешки. Есть отдельные квартиры с 0 и 6 комнатами, но это редкость."
   ]
  },
  {
   "cell_type": "code",
   "execution_count": 34,
   "metadata": {},
   "outputs": [
    {
     "name": "stdout",
     "output_type": "stream",
     "text": [
      "2.5\n",
      "5.0\n"
     ]
    },
    {
     "data": {
      "text/plain": [
       "<matplotlib.axes._subplots.AxesSubplot at 0x7fa355e90d50>"
      ]
     },
     "execution_count": 34,
     "metadata": {},
     "output_type": "execute_result"
    },
    {
     "data": {
      "image/png": "[encoded data removed]",
      "text/plain": [
       "<Figure size 432x288 with 1 Axes>"
      ]
     },
     "metadata": {
      "needs_background": "light"
     },
     "output_type": "display_data"
    },
    {
     "data": {
      "image/png": "[encoded data removed]",
      "text/plain": [
       "<Figure size 432x288 with 1 Axes>"
      ]
     },
     "metadata": {
      "needs_background": "light"
     },
     "output_type": "display_data"
    }
   ],
   "source": [
    "print(df['ceiling_height'].min())\n",
    "print(df['ceiling_height'].max())\n",
    "df.plot(y='ceiling_height', bins=50, kind='hist', grid=True, title='ceiling_height')\n",
    "df.plot(y='ceiling_height', kind='hist', bins=100, range=(2.5, 3), grid=True, title='ceiling_height_scaled')"
   ]
  },
  {
   "cell_type": "markdown",
   "metadata": {},
   "source": [
    "Обычная высота потолков составляет 2,65 метра, реже встречаются 2,5, 2,6 и 2,7 метра. Более высокие значения редки, но возможны, например, в элитных домах либо в реконструированных домах дореволюционной постройки."
   ]
  },
  {
   "cell_type": "code",
   "execution_count": 35,
   "metadata": {},
   "outputs": [
    {
     "name": "stdout",
     "output_type": "stream",
     "text": [
      "1.0\n",
      "1580.0\n",
      "180.98701427931738\n",
      "95.0\n",
      "19\n"
     ]
    },
    {
     "data": {
      "image/png": "[encoded data removed]",
      "text/plain": [
       "<Figure size 432x288 with 1 Axes>"
      ]
     },
     "metadata": {
      "needs_background": "light"
     },
     "output_type": "display_data"
    },
    {
     "data": {
      "image/png": "[encoded data removed]",
      "text/plain": [
       "<Figure size 432x288 with 1 Axes>"
      ]
     },
     "metadata": {
      "needs_background": "light"
     },
     "output_type": "display_data"
    }
   ],
   "source": [
    "print(df['days_exposition'].min())\n",
    "print(df['days_exposition'].max())\n",
    "print(df['days_exposition'].mean())\n",
    "print(df['days_exposition'].median())\n",
    "df.plot(y='days_exposition', bins=100, kind='hist', grid=True, title='days_exposition')\n",
    "df.plot(y='days_exposition', xlim=(0, 100), bins=500, kind='hist', grid=True, title='days_exposition')\n",
    "\n",
    "print(df[df['days_exposition'] > 1400]['days_exposition'].count())\n",
    "df = df.drop(df[df['days_exposition'] > 1400].index)"
   ]
  },
  {
   "cell_type": "markdown",
   "metadata": {},
   "source": [
    "Среднее значение времени продажи квартиры составляет 180 дней, а медиана  - 95 дней. Значит, есть отдельные очень большие значения days_exposition, которые перетягивают на себя значение среднего. Значения больше 1400 встречаются редко, удалим 19 таких наблюдений. 1400 тоже довольно большое число - это почти 4 года. Однако, в реальной жизни встречается и такое: время продажи возрастает с ростом числа комнат и элитности квартиры, либо наоборот - из-за плохого состояния квартиры, а также из-за чрезмерно высокой или подозрительно низкой цены."
   ]
  },
  {
   "cell_type": "code",
   "execution_count": 36,
   "metadata": {},
   "outputs": [
    {
     "data": {
      "text/plain": [
       "count    20080.000000\n",
       "mean       179.757620\n",
       "std        216.357126\n",
       "min          1.000000\n",
       "25%         45.000000\n",
       "50%         95.000000\n",
       "75%        231.000000\n",
       "max       1396.000000\n",
       "Name: days_exposition, dtype: float64"
      ]
     },
     "execution_count": 36,
     "metadata": {},
     "output_type": "execute_result"
    },
    {
     "data": {
      "image/png": "[encoded data removed]",
      "text/plain": [
       "<Figure size 432x288 with 1 Axes>"
      ]
     },
     "metadata": {
      "needs_background": "light"
     },
     "output_type": "display_data"
    }
   ],
   "source": [
    "df.boxplot('days_exposition')\n",
    "df['days_exposition'].describe()"
   ]
  },
  {
   "cell_type": "markdown",
   "metadata": {},
   "source": [
    "Чаще всего продажа квартиры занимает около 3 месяцев. Если покупатель нашелся раньше 1,5 месяцев - можно считать, что продажи прошли очень быстро. Необычно долгим сроком для продажи квартир можно считать 400+ дней."
   ]
  },
  {
   "cell_type": "code",
   "execution_count": 37,
   "metadata": {},
   "outputs": [
    {
     "data": {
      "text/html": [
       "<div>\n",
       "<style scoped>\n",
       "    .dataframe tbody tr th:only-of-type {\n",
       "        vertical-align: middle;\n",
       "    }\n",
       "\n",
       "    .dataframe tbody tr th {\n",
       "        vertical-align: top;\n",
       "    }\n",
       "\n",
       "    .dataframe thead th {\n",
       "        text-align: right;\n",
       "    }\n",
       "</style>\n",
       "<table border=\"1\" class=\"dataframe\">\n",
       "  <thead>\n",
       "    <tr style=\"text-align: right;\">\n",
       "      <th></th>\n",
       "      <th>total_images</th>\n",
       "      <th>last_price</th>\n",
       "      <th>total_area</th>\n",
       "      <th>rooms</th>\n",
       "      <th>ceiling_height</th>\n",
       "      <th>floors_total</th>\n",
       "      <th>living_area</th>\n",
       "      <th>floor</th>\n",
       "      <th>kitchen_area</th>\n",
       "      <th>cityCenters_nearest</th>\n",
       "      <th>days_exposition</th>\n",
       "      <th>non_leaving_area</th>\n",
       "      <th>sq_meter_price</th>\n",
       "      <th>exposition_weekday</th>\n",
       "      <th>exposition_month</th>\n",
       "      <th>exposition_year</th>\n",
       "      <th>living_to_total_area</th>\n",
       "      <th>kitchen_to_total_area</th>\n",
       "      <th>sq_meter_price_th</th>\n",
       "      <th>last_price_mln</th>\n",
       "    </tr>\n",
       "  </thead>\n",
       "  <tbody>\n",
       "    <tr>\n",
       "      <td>count</td>\n",
       "      <td>23195.000000</td>\n",
       "      <td>2.319500e+04</td>\n",
       "      <td>23195.000000</td>\n",
       "      <td>23195.000000</td>\n",
       "      <td>23195.000000</td>\n",
       "      <td>23195.000000</td>\n",
       "      <td>23195.000000</td>\n",
       "      <td>23195.000000</td>\n",
       "      <td>23195.000000</td>\n",
       "      <td>17799.000000</td>\n",
       "      <td>20080.000000</td>\n",
       "      <td>23195.000000</td>\n",
       "      <td>2.319500e+04</td>\n",
       "      <td>23195.000000</td>\n",
       "      <td>23195.000000</td>\n",
       "      <td>23195.000000</td>\n",
       "      <td>23195.000000</td>\n",
       "      <td>23195.000000</td>\n",
       "      <td>23195.000000</td>\n",
       "      <td>23195.000000</td>\n",
       "    </tr>\n",
       "    <tr>\n",
       "      <td>mean</td>\n",
       "      <td>9.897133</td>\n",
       "      <td>6.373839e+06</td>\n",
       "      <td>59.630289</td>\n",
       "      <td>2.052899</td>\n",
       "      <td>2.695142</td>\n",
       "      <td>10.692994</td>\n",
       "      <td>33.883757</td>\n",
       "      <td>5.884329</td>\n",
       "      <td>10.390279</td>\n",
       "      <td>14245.390471</td>\n",
       "      <td>179.757620</td>\n",
       "      <td>25.746532</td>\n",
       "      <td>9.911163e+04</td>\n",
       "      <td>2.569735</td>\n",
       "      <td>6.399655</td>\n",
       "      <td>2017.372408</td>\n",
       "      <td>0.561892</td>\n",
       "      <td>0.187250</td>\n",
       "      <td>99.111625</td>\n",
       "      <td>6.373839</td>\n",
       "    </tr>\n",
       "    <tr>\n",
       "      <td>std</td>\n",
       "      <td>5.674990</td>\n",
       "      <td>8.698606e+06</td>\n",
       "      <td>31.846560</td>\n",
       "      <td>1.002241</td>\n",
       "      <td>0.211813</td>\n",
       "      <td>6.586491</td>\n",
       "      <td>19.554151</td>\n",
       "      <td>4.870871</td>\n",
       "      <td>5.553956</td>\n",
       "      <td>8609.636834</td>\n",
       "      <td>216.357126</td>\n",
       "      <td>16.225074</td>\n",
       "      <td>4.833940e+04</td>\n",
       "      <td>1.787373</td>\n",
       "      <td>3.491766</td>\n",
       "      <td>1.035107</td>\n",
       "      <td>0.103435</td>\n",
       "      <td>0.070985</td>\n",
       "      <td>48.339395</td>\n",
       "      <td>8.698606</td>\n",
       "    </tr>\n",
       "    <tr>\n",
       "      <td>min</td>\n",
       "      <td>0.000000</td>\n",
       "      <td>4.300000e+05</td>\n",
       "      <td>18.000000</td>\n",
       "      <td>0.000000</td>\n",
       "      <td>2.500000</td>\n",
       "      <td>1.000000</td>\n",
       "      <td>6.000000</td>\n",
       "      <td>1.000000</td>\n",
       "      <td>1.300000</td>\n",
       "      <td>181.000000</td>\n",
       "      <td>1.000000</td>\n",
       "      <td>6.000000</td>\n",
       "      <td>7.962963e+03</td>\n",
       "      <td>0.000000</td>\n",
       "      <td>1.000000</td>\n",
       "      <td>2014.000000</td>\n",
       "      <td>0.078122</td>\n",
       "      <td>0.028000</td>\n",
       "      <td>7.962963</td>\n",
       "      <td>0.430000</td>\n",
       "    </tr>\n",
       "    <tr>\n",
       "      <td>25%</td>\n",
       "      <td>6.000000</td>\n",
       "      <td>3.450000e+06</td>\n",
       "      <td>40.000000</td>\n",
       "      <td>1.000000</td>\n",
       "      <td>2.600000</td>\n",
       "      <td>5.000000</td>\n",
       "      <td>18.600000</td>\n",
       "      <td>2.000000</td>\n",
       "      <td>7.000000</td>\n",
       "      <td>9330.500000</td>\n",
       "      <td>45.000000</td>\n",
       "      <td>17.000000</td>\n",
       "      <td>7.656250e+04</td>\n",
       "      <td>1.000000</td>\n",
       "      <td>3.000000</td>\n",
       "      <td>2017.000000</td>\n",
       "      <td>0.491562</td>\n",
       "      <td>0.134963</td>\n",
       "      <td>76.562500</td>\n",
       "      <td>3.450000</td>\n",
       "    </tr>\n",
       "    <tr>\n",
       "      <td>50%</td>\n",
       "      <td>9.000000</td>\n",
       "      <td>4.650000e+06</td>\n",
       "      <td>52.000000</td>\n",
       "      <td>2.000000</td>\n",
       "      <td>2.650000</td>\n",
       "      <td>9.000000</td>\n",
       "      <td>30.000000</td>\n",
       "      <td>4.000000</td>\n",
       "      <td>9.000000</td>\n",
       "      <td>13138.000000</td>\n",
       "      <td>95.000000</td>\n",
       "      <td>22.000000</td>\n",
       "      <td>9.491525e+04</td>\n",
       "      <td>3.000000</td>\n",
       "      <td>6.000000</td>\n",
       "      <td>2017.000000</td>\n",
       "      <td>0.566075</td>\n",
       "      <td>0.173653</td>\n",
       "      <td>94.915254</td>\n",
       "      <td>4.650000</td>\n",
       "    </tr>\n",
       "    <tr>\n",
       "      <td>75%</td>\n",
       "      <td>14.000000</td>\n",
       "      <td>6.750000e+06</td>\n",
       "      <td>69.300000</td>\n",
       "      <td>3.000000</td>\n",
       "      <td>2.700000</td>\n",
       "      <td>16.000000</td>\n",
       "      <td>42.000000</td>\n",
       "      <td>8.000000</td>\n",
       "      <td>12.000000</td>\n",
       "      <td>16296.000000</td>\n",
       "      <td>231.000000</td>\n",
       "      <td>29.000000</td>\n",
       "      <td>1.140892e+05</td>\n",
       "      <td>4.000000</td>\n",
       "      <td>10.000000</td>\n",
       "      <td>2018.000000</td>\n",
       "      <td>0.636017</td>\n",
       "      <td>0.230769</td>\n",
       "      <td>114.089233</td>\n",
       "      <td>6.750000</td>\n",
       "    </tr>\n",
       "    <tr>\n",
       "      <td>max</td>\n",
       "      <td>50.000000</td>\n",
       "      <td>4.013000e+08</td>\n",
       "      <td>507.000000</td>\n",
       "      <td>6.000000</td>\n",
       "      <td>5.000000</td>\n",
       "      <td>60.000000</td>\n",
       "      <td>301.500000</td>\n",
       "      <td>33.000000</td>\n",
       "      <td>107.000000</td>\n",
       "      <td>65968.000000</td>\n",
       "      <td>1396.000000</td>\n",
       "      <td>455.500000</td>\n",
       "      <td>1.736842e+06</td>\n",
       "      <td>6.000000</td>\n",
       "      <td>12.000000</td>\n",
       "      <td>2019.000000</td>\n",
       "      <td>0.927500</td>\n",
       "      <td>0.787879</td>\n",
       "      <td>1736.842105</td>\n",
       "      <td>401.300000</td>\n",
       "    </tr>\n",
       "  </tbody>\n",
       "</table>\n",
       "</div>"
      ],
      "text/plain": [
       "       total_images    last_price    total_area         rooms  ceiling_height  \\\n",
       "count  23195.000000  2.319500e+04  23195.000000  23195.000000    23195.000000   \n",
       "mean       9.897133  6.373839e+06     59.630289      2.052899        2.695142   \n",
       "std        5.674990  8.698606e+06     31.846560      1.002241        0.211813   \n",
       "min        0.000000  4.300000e+05     18.000000      0.000000        2.500000   \n",
       "25%        6.000000  3.450000e+06     40.000000      1.000000        2.600000   \n",
       "50%        9.000000  4.650000e+06     52.000000      2.000000        2.650000   \n",
       "75%       14.000000  6.750000e+06     69.300000      3.000000        2.700000   \n",
       "max       50.000000  4.013000e+08    507.000000      6.000000        5.000000   \n",
       "\n",
       "       floors_total   living_area         floor  kitchen_area  \\\n",
       "count  23195.000000  23195.000000  23195.000000  23195.000000   \n",
       "mean      10.692994     33.883757      5.884329     10.390279   \n",
       "std        6.586491     19.554151      4.870871      5.553956   \n",
       "min        1.000000      6.000000      1.000000      1.300000   \n",
       "25%        5.000000     18.600000      2.000000      7.000000   \n",
       "50%        9.000000     30.000000      4.000000      9.000000   \n",
       "75%       16.000000     42.000000      8.000000     12.000000   \n",
       "max       60.000000    301.500000     33.000000    107.000000   \n",
       "\n",
       "       cityCenters_nearest  days_exposition  non_leaving_area  sq_meter_price  \\\n",
       "count         17799.000000     20080.000000      23195.000000    2.319500e+04   \n",
       "mean          14245.390471       179.757620         25.746532    9.911163e+04   \n",
       "std            8609.636834       216.357126         16.225074    4.833940e+04   \n",
       "min             181.000000         1.000000          6.000000    7.962963e+03   \n",
       "25%            9330.500000        45.000000         17.000000    7.656250e+04   \n",
       "50%           13138.000000        95.000000         22.000000    9.491525e+04   \n",
       "75%           16296.000000       231.000000         29.000000    1.140892e+05   \n",
       "max           65968.000000      1396.000000        455.500000    1.736842e+06   \n",
       "\n",
       "       exposition_weekday  exposition_month  exposition_year  \\\n",
       "count        23195.000000      23195.000000     23195.000000   \n",
       "mean             2.569735          6.399655      2017.372408   \n",
       "std              1.787373          3.491766         1.035107   \n",
       "min              0.000000          1.000000      2014.000000   \n",
       "25%              1.000000          3.000000      2017.000000   \n",
       "50%              3.000000          6.000000      2017.000000   \n",
       "75%              4.000000         10.000000      2018.000000   \n",
       "max              6.000000         12.000000      2019.000000   \n",
       "\n",
       "       living_to_total_area  kitchen_to_total_area  sq_meter_price_th  \\\n",
       "count          23195.000000           23195.000000       23195.000000   \n",
       "mean               0.561892               0.187250          99.111625   \n",
       "std                0.103435               0.070985          48.339395   \n",
       "min                0.078122               0.028000           7.962963   \n",
       "25%                0.491562               0.134963          76.562500   \n",
       "50%                0.566075               0.173653          94.915254   \n",
       "75%                0.636017               0.230769         114.089233   \n",
       "max                0.927500               0.787879        1736.842105   \n",
       "\n",
       "       last_price_mln  \n",
       "count    23195.000000  \n",
       "mean         6.373839  \n",
       "std          8.698606  \n",
       "min          0.430000  \n",
       "25%          3.450000  \n",
       "50%          4.650000  \n",
       "75%          6.750000  \n",
       "max        401.300000  "
      ]
     },
     "execution_count": 37,
     "metadata": {},
     "output_type": "execute_result"
    }
   ],
   "source": [
    "df.describe()"
   ]
  },
  {
   "cell_type": "code",
   "execution_count": 38,
   "metadata": {},
   "outputs": [
    {
     "data": {
      "text/plain": [
       "<matplotlib.axes._subplots.AxesSubplot at 0x7fa3551b4fd0>"
      ]
     },
     "execution_count": 38,
     "metadata": {},
     "output_type": "execute_result"
    },
    {
     "data": {
      "image/png": "[encoded data removed]",
      "text/plain": [
       "<Figure size 432x288 with 1 Axes>"
      ]
     },
     "metadata": {
      "needs_background": "light"
     },
     "output_type": "display_data"
    }
   ],
   "source": [
    "df.boxplot('last_price_mln')"
   ]
  },
  {
   "cell_type": "code",
   "execution_count": 39,
   "metadata": {},
   "outputs": [
    {
     "data": {
      "text/plain": [
       "<matplotlib.axes._subplots.AxesSubplot at 0x7fa35f63a350>"
      ]
     },
     "execution_count": 39,
     "metadata": {},
     "output_type": "execute_result"
    },
    {
     "data": {
      "image/png": "[encoded data removed]",
      "text/plain": [
       "<Figure size 432x288 with 1 Axes>"
      ]
     },
     "metadata": {
      "needs_background": "light"
     },
     "output_type": "display_data"
    }
   ],
   "source": [
    "df.boxplot('total_area')"
   ]
  },
  {
   "cell_type": "code",
   "execution_count": 40,
   "metadata": {},
   "outputs": [
    {
     "data": {
      "text/plain": [
       "<matplotlib.axes._subplots.AxesSubplot at 0x7fa35518c890>"
      ]
     },
     "execution_count": 40,
     "metadata": {},
     "output_type": "execute_result"
    },
    {
     "data": {
      "image/png": "[encoded data removed]",
      "text/plain": [
       "<Figure size 432x288 with 1 Axes>"
      ]
     },
     "metadata": {
      "needs_background": "light"
     },
     "output_type": "display_data"
    }
   ],
   "source": [
    "df.boxplot('living_area')"
   ]
  },
  {
   "cell_type": "code",
   "execution_count": 41,
   "metadata": {},
   "outputs": [
    {
     "data": {
      "text/plain": [
       "<matplotlib.axes._subplots.AxesSubplot at 0x7fa3546b1d90>"
      ]
     },
     "execution_count": 41,
     "metadata": {},
     "output_type": "execute_result"
    },
    {
     "data": {
      "image/png": "[encoded data removed]",
      "text/plain": [
       "<Figure size 432x288 with 1 Axes>"
      ]
     },
     "metadata": {
      "needs_background": "light"
     },
     "output_type": "display_data"
    }
   ],
   "source": [
    "df.boxplot('kitchen_area')"
   ]
  },
  {
   "cell_type": "code",
   "execution_count": 42,
   "metadata": {},
   "outputs": [
    {
     "data": {
      "text/plain": [
       "<matplotlib.axes._subplots.AxesSubplot at 0x7fa354873610>"
      ]
     },
     "execution_count": 42,
     "metadata": {},
     "output_type": "execute_result"
    },
    {
     "data": {
      "image/png": "[encoded data removed]",
      "text/plain": [
       "<Figure size 432x288 with 1 Axes>"
      ]
     },
     "metadata": {
      "needs_background": "light"
     },
     "output_type": "display_data"
    }
   ],
   "source": [
    "df.boxplot('days_exposition')"
   ]
  },
  {
   "cell_type": "code",
   "execution_count": 43,
   "metadata": {},
   "outputs": [
    {
     "data": {
      "text/plain": [
       "<matplotlib.axes._subplots.AxesSubplot at 0x7fa355c6d310>"
      ]
     },
     "execution_count": 43,
     "metadata": {},
     "output_type": "execute_result"
    },
    {
     "data": {
      "image/png": "[encoded data removed]",
      "text/plain": [
       "<Figure size 432x288 with 1 Axes>"
      ]
     },
     "metadata": {
      "needs_background": "light"
     },
     "output_type": "display_data"
    }
   ],
   "source": [
    "df.boxplot('cityCenters_nearest')"
   ]
  },
  {
   "cell_type": "code",
   "execution_count": 44,
   "metadata": {
    "scrolled": true
   },
   "outputs": [
    {
     "data": {
      "text/html": [
       "<div>\n",
       "<style scoped>\n",
       "    .dataframe tbody tr th:only-of-type {\n",
       "        vertical-align: middle;\n",
       "    }\n",
       "\n",
       "    .dataframe tbody tr th {\n",
       "        vertical-align: top;\n",
       "    }\n",
       "\n",
       "    .dataframe thead th {\n",
       "        text-align: right;\n",
       "    }\n",
       "</style>\n",
       "<table border=\"1\" class=\"dataframe\">\n",
       "  <thead>\n",
       "    <tr style=\"text-align: right;\">\n",
       "      <th></th>\n",
       "      <th>total_images</th>\n",
       "      <th>last_price</th>\n",
       "      <th>total_area</th>\n",
       "      <th>rooms</th>\n",
       "      <th>ceiling_height</th>\n",
       "      <th>floors_total</th>\n",
       "      <th>living_area</th>\n",
       "      <th>floor</th>\n",
       "      <th>kitchen_area</th>\n",
       "      <th>cityCenters_nearest</th>\n",
       "      <th>days_exposition</th>\n",
       "      <th>non_leaving_area</th>\n",
       "      <th>sq_meter_price</th>\n",
       "      <th>exposition_weekday</th>\n",
       "      <th>exposition_month</th>\n",
       "      <th>exposition_year</th>\n",
       "      <th>living_to_total_area</th>\n",
       "      <th>kitchen_to_total_area</th>\n",
       "      <th>sq_meter_price_th</th>\n",
       "      <th>last_price_mln</th>\n",
       "    </tr>\n",
       "  </thead>\n",
       "  <tbody>\n",
       "    <tr>\n",
       "      <td>count</td>\n",
       "      <td>12718.000000</td>\n",
       "      <td>1.271800e+04</td>\n",
       "      <td>12718.000000</td>\n",
       "      <td>12718.000000</td>\n",
       "      <td>12718.000000</td>\n",
       "      <td>12718.000000</td>\n",
       "      <td>12718.000000</td>\n",
       "      <td>12718.000000</td>\n",
       "      <td>12718.000000</td>\n",
       "      <td>12718.000000</td>\n",
       "      <td>12718.000000</td>\n",
       "      <td>12718.000000</td>\n",
       "      <td>12718.000000</td>\n",
       "      <td>12718.000000</td>\n",
       "      <td>12718.000000</td>\n",
       "      <td>12718.000000</td>\n",
       "      <td>12718.000000</td>\n",
       "      <td>12718.000000</td>\n",
       "      <td>12718.000000</td>\n",
       "      <td>12718.000000</td>\n",
       "    </tr>\n",
       "    <tr>\n",
       "      <td>mean</td>\n",
       "      <td>9.697515</td>\n",
       "      <td>5.252118e+06</td>\n",
       "      <td>52.728755</td>\n",
       "      <td>1.909262</td>\n",
       "      <td>2.673408</td>\n",
       "      <td>11.496698</td>\n",
       "      <td>30.223228</td>\n",
       "      <td>6.231247</td>\n",
       "      <td>9.269416</td>\n",
       "      <td>15128.989228</td>\n",
       "      <td>122.363736</td>\n",
       "      <td>22.505527</td>\n",
       "      <td>100928.853163</td>\n",
       "      <td>2.589715</td>\n",
       "      <td>6.602610</td>\n",
       "      <td>2017.359884</td>\n",
       "      <td>0.562965</td>\n",
       "      <td>0.186671</td>\n",
       "      <td>100.928853</td>\n",
       "      <td>5.252118</td>\n",
       "    </tr>\n",
       "    <tr>\n",
       "      <td>std</td>\n",
       "      <td>5.561563</td>\n",
       "      <td>1.974084e+06</td>\n",
       "      <td>17.730890</td>\n",
       "      <td>0.888592</td>\n",
       "      <td>0.177318</td>\n",
       "      <td>6.581070</td>\n",
       "      <td>12.871860</td>\n",
       "      <td>4.974867</td>\n",
       "      <td>2.941326</td>\n",
       "      <td>8351.888605</td>\n",
       "      <td>117.155466</td>\n",
       "      <td>7.819597</td>\n",
       "      <td>22812.776037</td>\n",
       "      <td>1.780543</td>\n",
       "      <td>3.466094</td>\n",
       "      <td>0.849435</td>\n",
       "      <td>0.099176</td>\n",
       "      <td>0.062914</td>\n",
       "      <td>22.812776</td>\n",
       "      <td>1.974084</td>\n",
       "    </tr>\n",
       "    <tr>\n",
       "      <td>min</td>\n",
       "      <td>0.000000</td>\n",
       "      <td>1.200000e+06</td>\n",
       "      <td>18.000000</td>\n",
       "      <td>0.000000</td>\n",
       "      <td>2.500000</td>\n",
       "      <td>1.000000</td>\n",
       "      <td>6.000000</td>\n",
       "      <td>1.000000</td>\n",
       "      <td>2.000000</td>\n",
       "      <td>208.000000</td>\n",
       "      <td>1.000000</td>\n",
       "      <td>6.000000</td>\n",
       "      <td>15345.268542</td>\n",
       "      <td>0.000000</td>\n",
       "      <td>1.000000</td>\n",
       "      <td>2015.000000</td>\n",
       "      <td>0.141304</td>\n",
       "      <td>0.043524</td>\n",
       "      <td>15.345269</td>\n",
       "      <td>1.200000</td>\n",
       "    </tr>\n",
       "    <tr>\n",
       "      <td>25%</td>\n",
       "      <td>6.000000</td>\n",
       "      <td>3.800000e+06</td>\n",
       "      <td>39.000000</td>\n",
       "      <td>1.000000</td>\n",
       "      <td>2.600000</td>\n",
       "      <td>5.000000</td>\n",
       "      <td>18.200000</td>\n",
       "      <td>3.000000</td>\n",
       "      <td>7.000000</td>\n",
       "      <td>10879.250000</td>\n",
       "      <td>36.000000</td>\n",
       "      <td>16.900000</td>\n",
       "      <td>85454.545455</td>\n",
       "      <td>1.000000</td>\n",
       "      <td>3.000000</td>\n",
       "      <td>2017.000000</td>\n",
       "      <td>0.497483</td>\n",
       "      <td>0.138131</td>\n",
       "      <td>85.454545</td>\n",
       "      <td>3.800000</td>\n",
       "    </tr>\n",
       "    <tr>\n",
       "      <td>50%</td>\n",
       "      <td>9.000000</td>\n",
       "      <td>4.750000e+06</td>\n",
       "      <td>48.700000</td>\n",
       "      <td>2.000000</td>\n",
       "      <td>2.650000</td>\n",
       "      <td>9.000000</td>\n",
       "      <td>29.000000</td>\n",
       "      <td>5.000000</td>\n",
       "      <td>8.900000</td>\n",
       "      <td>13732.000000</td>\n",
       "      <td>79.000000</td>\n",
       "      <td>21.000000</td>\n",
       "      <td>98333.333333</td>\n",
       "      <td>3.000000</td>\n",
       "      <td>7.000000</td>\n",
       "      <td>2017.000000</td>\n",
       "      <td>0.566572</td>\n",
       "      <td>0.176471</td>\n",
       "      <td>98.333333</td>\n",
       "      <td>4.750000</td>\n",
       "    </tr>\n",
       "    <tr>\n",
       "      <td>75%</td>\n",
       "      <td>14.000000</td>\n",
       "      <td>6.300000e+06</td>\n",
       "      <td>63.000000</td>\n",
       "      <td>3.000000</td>\n",
       "      <td>2.690000</td>\n",
       "      <td>16.000000</td>\n",
       "      <td>39.000000</td>\n",
       "      <td>9.000000</td>\n",
       "      <td>11.000000</td>\n",
       "      <td>16743.500000</td>\n",
       "      <td>174.750000</td>\n",
       "      <td>26.800000</td>\n",
       "      <td>113252.259036</td>\n",
       "      <td>4.000000</td>\n",
       "      <td>10.000000</td>\n",
       "      <td>2018.000000</td>\n",
       "      <td>0.634528</td>\n",
       "      <td>0.229167</td>\n",
       "      <td>113.252259</td>\n",
       "      <td>6.300000</td>\n",
       "    </tr>\n",
       "    <tr>\n",
       "      <td>max</td>\n",
       "      <td>35.000000</td>\n",
       "      <td>1.199900e+07</td>\n",
       "      <td>119.600000</td>\n",
       "      <td>6.000000</td>\n",
       "      <td>4.500000</td>\n",
       "      <td>60.000000</td>\n",
       "      <td>92.750000</td>\n",
       "      <td>33.000000</td>\n",
       "      <td>19.900000</td>\n",
       "      <td>64857.000000</td>\n",
       "      <td>499.000000</td>\n",
       "      <td>93.700000</td>\n",
       "      <td>312240.000000</td>\n",
       "      <td>6.000000</td>\n",
       "      <td>12.000000</td>\n",
       "      <td>2019.000000</td>\n",
       "      <td>0.927500</td>\n",
       "      <td>0.739837</td>\n",
       "      <td>312.240000</td>\n",
       "      <td>11.999000</td>\n",
       "    </tr>\n",
       "  </tbody>\n",
       "</table>\n",
       "</div>"
      ],
      "text/plain": [
       "       total_images    last_price    total_area         rooms  ceiling_height  \\\n",
       "count  12718.000000  1.271800e+04  12718.000000  12718.000000    12718.000000   \n",
       "mean       9.697515  5.252118e+06     52.728755      1.909262        2.673408   \n",
       "std        5.561563  1.974084e+06     17.730890      0.888592        0.177318   \n",
       "min        0.000000  1.200000e+06     18.000000      0.000000        2.500000   \n",
       "25%        6.000000  3.800000e+06     39.000000      1.000000        2.600000   \n",
       "50%        9.000000  4.750000e+06     48.700000      2.000000        2.650000   \n",
       "75%       14.000000  6.300000e+06     63.000000      3.000000        2.690000   \n",
       "max       35.000000  1.199900e+07    119.600000      6.000000        4.500000   \n",
       "\n",
       "       floors_total   living_area         floor  kitchen_area  \\\n",
       "count  12718.000000  12718.000000  12718.000000  12718.000000   \n",
       "mean      11.496698     30.223228      6.231247      9.269416   \n",
       "std        6.581070     12.871860      4.974867      2.941326   \n",
       "min        1.000000      6.000000      1.000000      2.000000   \n",
       "25%        5.000000     18.200000      3.000000      7.000000   \n",
       "50%        9.000000     29.000000      5.000000      8.900000   \n",
       "75%       16.000000     39.000000      9.000000     11.000000   \n",
       "max       60.000000     92.750000     33.000000     19.900000   \n",
       "\n",
       "       cityCenters_nearest  days_exposition  non_leaving_area  sq_meter_price  \\\n",
       "count         12718.000000     12718.000000      12718.000000    12718.000000   \n",
       "mean          15128.989228       122.363736         22.505527   100928.853163   \n",
       "std            8351.888605       117.155466          7.819597    22812.776037   \n",
       "min             208.000000         1.000000          6.000000    15345.268542   \n",
       "25%           10879.250000        36.000000         16.900000    85454.545455   \n",
       "50%           13732.000000        79.000000         21.000000    98333.333333   \n",
       "75%           16743.500000       174.750000         26.800000   113252.259036   \n",
       "max           64857.000000       499.000000         93.700000   312240.000000   \n",
       "\n",
       "       exposition_weekday  exposition_month  exposition_year  \\\n",
       "count        12718.000000      12718.000000     12718.000000   \n",
       "mean             2.589715          6.602610      2017.359884   \n",
       "std              1.780543          3.466094         0.849435   \n",
       "min              0.000000          1.000000      2015.000000   \n",
       "25%              1.000000          3.000000      2017.000000   \n",
       "50%              3.000000          7.000000      2017.000000   \n",
       "75%              4.000000         10.000000      2018.000000   \n",
       "max              6.000000         12.000000      2019.000000   \n",
       "\n",
       "       living_to_total_area  kitchen_to_total_area  sq_meter_price_th  \\\n",
       "count          12718.000000           12718.000000       12718.000000   \n",
       "mean               0.562965               0.186671         100.928853   \n",
       "std                0.099176               0.062914          22.812776   \n",
       "min                0.141304               0.043524          15.345269   \n",
       "25%                0.497483               0.138131          85.454545   \n",
       "50%                0.566572               0.176471          98.333333   \n",
       "75%                0.634528               0.229167         113.252259   \n",
       "max                0.927500               0.739837         312.240000   \n",
       "\n",
       "       last_price_mln  \n",
       "count    12718.000000  \n",
       "mean         5.252118  \n",
       "std          1.974084  \n",
       "min          1.200000  \n",
       "25%          3.800000  \n",
       "50%          4.750000  \n",
       "75%          6.300000  \n",
       "max         11.999000  "
      ]
     },
     "execution_count": 44,
     "metadata": {},
     "output_type": "execute_result"
    }
   ],
   "source": [
    "df_clean = pd.DataFrame(df.query('(last_price_mln<12)&(total_area<120)&(living_area<160)&(kitchen_area<20)&(days_exposition<500)&(cityCenters_nearest<260000)'))\n",
    "df_clean.describe()"
   ]
  },
  {
   "cell_type": "markdown",
   "metadata": {},
   "source": [
    "Сформируем срез df_clean, очищенный от выбросов по переменным last_price, total_area, living_area, kitchen_area, days_exposition, cityCenters_nearest. Границы выбросов определяем по ящикам с усами."
   ]
  },
  {
   "cell_type": "code",
   "execution_count": 45,
   "metadata": {},
   "outputs": [
    {
     "name": "stdout",
     "output_type": "stream",
     "text": [
      "total_area -0.17241392955741286\n",
      "living_area -0.25426290937869495\n",
      "kitchen_area 0.19053812000630221\n",
      "rooms -0.32658507059823866\n",
      "cityCenters_nearest -0.3965116647222406\n"
     ]
    }
   ],
   "source": [
    "print('total_area', df_clean['sq_meter_price'].corr(df_clean['total_area']))\n",
    "print('living_area', df_clean['sq_meter_price'].corr(df_clean['living_area']))\n",
    "print('kitchen_area', df_clean['sq_meter_price'].corr(df_clean['kitchen_area']))\n",
    "print('rooms', df_clean['sq_meter_price'].corr(df_clean['rooms']))\n",
    "print('cityCenters_nearest', df_clean['sq_meter_price'].corr(df_clean['cityCenters_nearest']))"
   ]
  },
  {
   "cell_type": "markdown",
   "metadata": {},
   "source": [
    "Цена за квадратный метр отрицательно зависит от общей и жилой площади, числа комнат и удаленности от центра, при этом удаленность от центра влияет на цену сильнее других параметров.\n",
    "Увеличение площади кухни связана с ростом цены.\n",
    "Однако корреляция во всех случаях довольно слабая."
   ]
  },
  {
   "cell_type": "code",
   "execution_count": 46,
   "metadata": {},
   "outputs": [
    {
     "name": "stdout",
     "output_type": "stream",
     "text": [
      "total_area 0.7821034643082779\n",
      "living_area 0.6577162302223962\n",
      "kitchen_area 0.5177736849964433\n",
      "rooms 0.5123028267735047\n",
      "cityCenters_nearest -0.34494395851298504\n"
     ]
    }
   ],
   "source": [
    "print('total_area', df_clean['last_price'].corr(df_clean['total_area']))\n",
    "print('living_area', df_clean['last_price'].corr(df_clean['living_area']))\n",
    "print('kitchen_area', df_clean['last_price'].corr(df_clean['kitchen_area']))\n",
    "print('rooms', df_clean['last_price'].corr(df_clean['rooms']))\n",
    "print('cityCenters_nearest', df_clean['last_price'].corr(df_clean['cityCenters_nearest']))"
   ]
  },
  {
   "cell_type": "markdown",
   "metadata": {},
   "source": [
    "Общая цена квартиры сильнее всего зависит от общей и жилой площадей (корреляция выше средней). Примерно одинаково влияют на рост цены площадь кухни и число комнат. Удаленность от центра снижает цену жилья."
   ]
  },
  {
   "cell_type": "code",
   "execution_count": 47,
   "metadata": {},
   "outputs": [
    {
     "data": {
      "text/html": [
       "<div>\n",
       "<style scoped>\n",
       "    .dataframe tbody tr th:only-of-type {\n",
       "        vertical-align: middle;\n",
       "    }\n",
       "\n",
       "    .dataframe tbody tr th {\n",
       "        vertical-align: top;\n",
       "    }\n",
       "\n",
       "    .dataframe thead th {\n",
       "        text-align: right;\n",
       "    }\n",
       "</style>\n",
       "<table border=\"1\" class=\"dataframe\">\n",
       "  <thead>\n",
       "    <tr style=\"text-align: right;\">\n",
       "      <th></th>\n",
       "      <th>exposition_weekday</th>\n",
       "      <th>last_price_mln</th>\n",
       "      <th>sq_meter_price_th</th>\n",
       "    </tr>\n",
       "  </thead>\n",
       "  <tbody>\n",
       "    <tr>\n",
       "      <td>0</td>\n",
       "      <td>0</td>\n",
       "      <td>4.75</td>\n",
       "      <td>97.942584</td>\n",
       "    </tr>\n",
       "    <tr>\n",
       "      <td>1</td>\n",
       "      <td>1</td>\n",
       "      <td>4.80</td>\n",
       "      <td>98.387097</td>\n",
       "    </tr>\n",
       "    <tr>\n",
       "      <td>2</td>\n",
       "      <td>2</td>\n",
       "      <td>4.75</td>\n",
       "      <td>99.049069</td>\n",
       "    </tr>\n",
       "    <tr>\n",
       "      <td>3</td>\n",
       "      <td>3</td>\n",
       "      <td>4.75</td>\n",
       "      <td>98.943325</td>\n",
       "    </tr>\n",
       "    <tr>\n",
       "      <td>4</td>\n",
       "      <td>4</td>\n",
       "      <td>4.70</td>\n",
       "      <td>97.203274</td>\n",
       "    </tr>\n",
       "    <tr>\n",
       "      <td>5</td>\n",
       "      <td>5</td>\n",
       "      <td>4.75</td>\n",
       "      <td>98.566308</td>\n",
       "    </tr>\n",
       "    <tr>\n",
       "      <td>6</td>\n",
       "      <td>6</td>\n",
       "      <td>4.69</td>\n",
       "      <td>98.786115</td>\n",
       "    </tr>\n",
       "  </tbody>\n",
       "</table>\n",
       "</div>"
      ],
      "text/plain": [
       "   exposition_weekday  last_price_mln  sq_meter_price_th\n",
       "0                   0            4.75          97.942584\n",
       "1                   1            4.80          98.387097\n",
       "2                   2            4.75          99.049069\n",
       "3                   3            4.75          98.943325\n",
       "4                   4            4.70          97.203274\n",
       "5                   5            4.75          98.566308\n",
       "6                   6            4.69          98.786115"
      ]
     },
     "execution_count": 47,
     "metadata": {},
     "output_type": "execute_result"
    }
   ],
   "source": [
    "price_weekday_pivot = df_clean.pivot_table(index=['exposition_weekday'], values=['last_price_mln', 'sq_meter_price_th'], aggfunc='median').reset_index()\n",
    "price_weekday_pivot"
   ]
  },
  {
   "cell_type": "markdown",
   "metadata": {},
   "source": [
    "Самая низкая цена за квадратный метр - в объявлениях, размещенных в понедельник и пятницу, самая высокая - в среду. При этом квартиры с наибольшей общей ценой выставляются на продажу во вторник, с наименьшей - в воскресенье. "
   ]
  },
  {
   "cell_type": "code",
   "execution_count": 48,
   "metadata": {},
   "outputs": [
    {
     "data": {
      "text/html": [
       "<div>\n",
       "<style scoped>\n",
       "    .dataframe tbody tr th:only-of-type {\n",
       "        vertical-align: middle;\n",
       "    }\n",
       "\n",
       "    .dataframe tbody tr th {\n",
       "        vertical-align: top;\n",
       "    }\n",
       "\n",
       "    .dataframe thead th {\n",
       "        text-align: right;\n",
       "    }\n",
       "</style>\n",
       "<table border=\"1\" class=\"dataframe\">\n",
       "  <thead>\n",
       "    <tr style=\"text-align: right;\">\n",
       "      <th></th>\n",
       "      <th>exposition_month</th>\n",
       "      <th>last_price_mln</th>\n",
       "      <th>sq_meter_price_th</th>\n",
       "    </tr>\n",
       "  </thead>\n",
       "  <tbody>\n",
       "    <tr>\n",
       "      <td>0</td>\n",
       "      <td>1</td>\n",
       "      <td>4.75</td>\n",
       "      <td>100.000000</td>\n",
       "    </tr>\n",
       "    <tr>\n",
       "      <td>1</td>\n",
       "      <td>2</td>\n",
       "      <td>4.79</td>\n",
       "      <td>98.484848</td>\n",
       "    </tr>\n",
       "    <tr>\n",
       "      <td>2</td>\n",
       "      <td>3</td>\n",
       "      <td>4.75</td>\n",
       "      <td>99.834278</td>\n",
       "    </tr>\n",
       "    <tr>\n",
       "      <td>3</td>\n",
       "      <td>4</td>\n",
       "      <td>4.80</td>\n",
       "      <td>97.619048</td>\n",
       "    </tr>\n",
       "    <tr>\n",
       "      <td>4</td>\n",
       "      <td>5</td>\n",
       "      <td>4.70</td>\n",
       "      <td>95.238095</td>\n",
       "    </tr>\n",
       "    <tr>\n",
       "      <td>5</td>\n",
       "      <td>6</td>\n",
       "      <td>4.60</td>\n",
       "      <td>96.984848</td>\n",
       "    </tr>\n",
       "    <tr>\n",
       "      <td>6</td>\n",
       "      <td>7</td>\n",
       "      <td>4.75</td>\n",
       "      <td>98.113208</td>\n",
       "    </tr>\n",
       "    <tr>\n",
       "      <td>7</td>\n",
       "      <td>8</td>\n",
       "      <td>4.75</td>\n",
       "      <td>99.827883</td>\n",
       "    </tr>\n",
       "    <tr>\n",
       "      <td>8</td>\n",
       "      <td>9</td>\n",
       "      <td>4.77</td>\n",
       "      <td>98.740752</td>\n",
       "    </tr>\n",
       "    <tr>\n",
       "      <td>9</td>\n",
       "      <td>10</td>\n",
       "      <td>4.65</td>\n",
       "      <td>97.467949</td>\n",
       "    </tr>\n",
       "    <tr>\n",
       "      <td>10</td>\n",
       "      <td>11</td>\n",
       "      <td>4.75</td>\n",
       "      <td>97.727273</td>\n",
       "    </tr>\n",
       "    <tr>\n",
       "      <td>11</td>\n",
       "      <td>12</td>\n",
       "      <td>4.90</td>\n",
       "      <td>99.744246</td>\n",
       "    </tr>\n",
       "  </tbody>\n",
       "</table>\n",
       "</div>"
      ],
      "text/plain": [
       "    exposition_month  last_price_mln  sq_meter_price_th\n",
       "0                  1            4.75         100.000000\n",
       "1                  2            4.79          98.484848\n",
       "2                  3            4.75          99.834278\n",
       "3                  4            4.80          97.619048\n",
       "4                  5            4.70          95.238095\n",
       "5                  6            4.60          96.984848\n",
       "6                  7            4.75          98.113208\n",
       "7                  8            4.75          99.827883\n",
       "8                  9            4.77          98.740752\n",
       "9                 10            4.65          97.467949\n",
       "10                11            4.75          97.727273\n",
       "11                12            4.90          99.744246"
      ]
     },
     "execution_count": 48,
     "metadata": {},
     "output_type": "execute_result"
    }
   ],
   "source": [
    "price_month_pivot = df_clean.pivot_table(index=['exposition_month'], values=['last_price_mln', 'sq_meter_price_th'], aggfunc='median').reset_index()\n",
    "price_month_pivot"
   ]
  },
  {
   "cell_type": "markdown",
   "metadata": {},
   "source": [
    "Самые высокие цены за квадрат наблюдаются в объявлениях, размещенных в декабре-марте и в июле-сентябре. Самые низкие - в мае (возможно, связано со снижением деловой активности в майские праздники). По итоговой цене самый дорогой месяц - декабрь, самый дешевый - июнь (летом спрос на жилье обычно снижается; в конце лета покупателей на рынке постепенно становится больше: начиная с августа спрос плавно увеличивается и растет до декабря). "
   ]
  },
  {
   "cell_type": "code",
   "execution_count": 49,
   "metadata": {},
   "outputs": [
    {
     "data": {
      "text/html": [
       "<div>\n",
       "<style scoped>\n",
       "    .dataframe tbody tr th:only-of-type {\n",
       "        vertical-align: middle;\n",
       "    }\n",
       "\n",
       "    .dataframe tbody tr th {\n",
       "        vertical-align: top;\n",
       "    }\n",
       "\n",
       "    .dataframe thead th {\n",
       "        text-align: right;\n",
       "    }\n",
       "</style>\n",
       "<table border=\"1\" class=\"dataframe\">\n",
       "  <thead>\n",
       "    <tr style=\"text-align: right;\">\n",
       "      <th></th>\n",
       "      <th>exposition_year</th>\n",
       "      <th>last_price_mln</th>\n",
       "      <th>sq_meter_price_th</th>\n",
       "    </tr>\n",
       "  </thead>\n",
       "  <tbody>\n",
       "    <tr>\n",
       "      <td>0</td>\n",
       "      <td>2015</td>\n",
       "      <td>4.90</td>\n",
       "      <td>92.537313</td>\n",
       "    </tr>\n",
       "    <tr>\n",
       "      <td>1</td>\n",
       "      <td>2016</td>\n",
       "      <td>4.70</td>\n",
       "      <td>94.922737</td>\n",
       "    </tr>\n",
       "    <tr>\n",
       "      <td>2</td>\n",
       "      <td>2017</td>\n",
       "      <td>4.65</td>\n",
       "      <td>95.846645</td>\n",
       "    </tr>\n",
       "    <tr>\n",
       "      <td>3</td>\n",
       "      <td>2018</td>\n",
       "      <td>4.80</td>\n",
       "      <td>100.350350</td>\n",
       "    </tr>\n",
       "    <tr>\n",
       "      <td>4</td>\n",
       "      <td>2019</td>\n",
       "      <td>5.00</td>\n",
       "      <td>107.865169</td>\n",
       "    </tr>\n",
       "  </tbody>\n",
       "</table>\n",
       "</div>"
      ],
      "text/plain": [
       "   exposition_year  last_price_mln  sq_meter_price_th\n",
       "0             2015            4.90          92.537313\n",
       "1             2016            4.70          94.922737\n",
       "2             2017            4.65          95.846645\n",
       "3             2018            4.80         100.350350\n",
       "4             2019            5.00         107.865169"
      ]
     },
     "execution_count": 49,
     "metadata": {},
     "output_type": "execute_result"
    }
   ],
   "source": [
    "price_year_pivot = df_clean.pivot_table(index=['exposition_year'], values=['last_price_mln', 'sq_meter_price_th'], aggfunc='median').reset_index()\n",
    "price_year_pivot"
   ]
  },
  {
   "cell_type": "markdown",
   "metadata": {},
   "source": [
    "С каждым годом цена за квадратный метр жилья растет, при этом если в 15-17 годах цена повышалась плавно, примерно на 2 тыс. в год, то в 18-19 гг. выросла на 5 и 7 тыс. соответственно. Низкие цены 2015 г. можно объяснить последствиями финансового кризиса 2014 г., когда покупательская способность населения была относительно низкой, и постепенно увеличивалась с каждый годом. Среди основных драйверов роста цен в 18-19 гг. - переход на эскроу-счета. Они предполагают развитие кредитования застройщиков, а значит, у девелоперов появляются дополнительные расходы, которые они закладывают в конечную цену жилья."
   ]
  },
  {
   "cell_type": "code",
   "execution_count": 50,
   "metadata": {},
   "outputs": [
    {
     "data": {
      "text/html": [
       "<div>\n",
       "<style scoped>\n",
       "    .dataframe tbody tr th:only-of-type {\n",
       "        vertical-align: middle;\n",
       "    }\n",
       "\n",
       "    .dataframe tbody tr th {\n",
       "        vertical-align: top;\n",
       "    }\n",
       "\n",
       "    .dataframe thead th {\n",
       "        text-align: right;\n",
       "    }\n",
       "</style>\n",
       "<table border=\"1\" class=\"dataframe\">\n",
       "  <thead>\n",
       "    <tr style=\"text-align: right;\">\n",
       "      <th></th>\n",
       "      <th>floor_group</th>\n",
       "      <th>last_price_mln</th>\n",
       "      <th>sq_meter_price_th</th>\n",
       "    </tr>\n",
       "  </thead>\n",
       "  <tbody>\n",
       "    <tr>\n",
       "      <td>0</td>\n",
       "      <td>другой</td>\n",
       "      <td>4.85</td>\n",
       "      <td>100.000000</td>\n",
       "    </tr>\n",
       "    <tr>\n",
       "      <td>1</td>\n",
       "      <td>первый</td>\n",
       "      <td>4.25</td>\n",
       "      <td>88.003527</td>\n",
       "    </tr>\n",
       "    <tr>\n",
       "      <td>2</td>\n",
       "      <td>последний</td>\n",
       "      <td>4.60</td>\n",
       "      <td>94.095952</td>\n",
       "    </tr>\n",
       "  </tbody>\n",
       "</table>\n",
       "</div>"
      ],
      "text/plain": [
       "  floor_group  last_price_mln  sq_meter_price_th\n",
       "0      другой            4.85         100.000000\n",
       "1      первый            4.25          88.003527\n",
       "2   последний            4.60          94.095952"
      ]
     },
     "execution_count": 50,
     "metadata": {},
     "output_type": "execute_result"
    }
   ],
   "source": [
    "price_floor_pivot = df_clean.pivot_table(index=['floor_group'], values=['last_price_mln', 'sq_meter_price_th'], aggfunc='median').reset_index()\n",
    "price_floor_pivot"
   ]
  },
  {
   "cell_type": "markdown",
   "metadata": {},
   "source": [
    "Представим влияение этажа на медианную цену квартиры в сводной таблице. \n",
    "- На первом этаже продают квартире дешевле всего - это касается из общей цены, и цены за квадратный метр.  \n",
    "- На последнем этаже медианная цена несколько выше, чем на первом\n",
    "- Самые дорогие квартиры располагаются на других этажах (не первом и не последнем)\n",
    "\n",
    "Это также ожидаемый результат. В 90х-2000х гг. сложился стереотип о том, что первый этаж служит легкой мишенью для грабителей и находится слишком близко к подвалу, откуда в квартиру могут прибежать крысы, а на последнем этаже высоки риски протекания крыши."
   ]
  },
  {
   "cell_type": "code",
   "execution_count": 51,
   "metadata": {},
   "outputs": [
    {
     "data": {
      "text/html": [
       "<div>\n",
       "<style scoped>\n",
       "    .dataframe tbody tr th:only-of-type {\n",
       "        vertical-align: middle;\n",
       "    }\n",
       "\n",
       "    .dataframe tbody tr th {\n",
       "        vertical-align: top;\n",
       "    }\n",
       "\n",
       "    .dataframe thead th {\n",
       "        text-align: right;\n",
       "    }\n",
       "</style>\n",
       "<table border=\"1\" class=\"dataframe\">\n",
       "  <thead>\n",
       "    <tr style=\"text-align: right;\">\n",
       "      <th></th>\n",
       "      <th>locality_name</th>\n",
       "      <th>count</th>\n",
       "      <th>avg_sq_meter_price</th>\n",
       "    </tr>\n",
       "  </thead>\n",
       "  <tbody>\n",
       "    <tr>\n",
       "      <td>8</td>\n",
       "      <td>Санкт-Петербург</td>\n",
       "      <td>10771</td>\n",
       "      <td>104.128687</td>\n",
       "    </tr>\n",
       "    <tr>\n",
       "      <td>25</td>\n",
       "      <td>посёлок Шушары</td>\n",
       "      <td>373</td>\n",
       "      <td>77.372220</td>\n",
       "    </tr>\n",
       "    <tr>\n",
       "      <td>1</td>\n",
       "      <td>Колпино</td>\n",
       "      <td>285</td>\n",
       "      <td>74.618178</td>\n",
       "    </tr>\n",
       "    <tr>\n",
       "      <td>17</td>\n",
       "      <td>посёлок Парголово</td>\n",
       "      <td>283</td>\n",
       "      <td>89.416752</td>\n",
       "    </tr>\n",
       "    <tr>\n",
       "      <td>7</td>\n",
       "      <td>Пушкин</td>\n",
       "      <td>248</td>\n",
       "      <td>98.771875</td>\n",
       "    </tr>\n",
       "    <tr>\n",
       "      <td>6</td>\n",
       "      <td>Петергоф</td>\n",
       "      <td>154</td>\n",
       "      <td>82.894756</td>\n",
       "    </tr>\n",
       "    <tr>\n",
       "      <td>2</td>\n",
       "      <td>Красное Село</td>\n",
       "      <td>137</td>\n",
       "      <td>72.119097</td>\n",
       "    </tr>\n",
       "    <tr>\n",
       "      <td>9</td>\n",
       "      <td>Сестрорецк</td>\n",
       "      <td>129</td>\n",
       "      <td>100.855289</td>\n",
       "    </tr>\n",
       "    <tr>\n",
       "      <td>4</td>\n",
       "      <td>Ломоносов</td>\n",
       "      <td>93</td>\n",
       "      <td>71.850242</td>\n",
       "    </tr>\n",
       "    <tr>\n",
       "      <td>3</td>\n",
       "      <td>Кронштадт</td>\n",
       "      <td>77</td>\n",
       "      <td>78.632970</td>\n",
       "    </tr>\n",
       "  </tbody>\n",
       "</table>\n",
       "</div>"
      ],
      "text/plain": [
       "        locality_name  count  avg_sq_meter_price\n",
       "8     Санкт-Петербург  10771          104.128687\n",
       "25     посёлок Шушары    373           77.372220\n",
       "1             Колпино    285           74.618178\n",
       "17  посёлок Парголово    283           89.416752\n",
       "7              Пушкин    248           98.771875\n",
       "6            Петергоф    154           82.894756\n",
       "2        Красное Село    137           72.119097\n",
       "9          Сестрорецк    129          100.855289\n",
       "4           Ломоносов     93           71.850242\n",
       "3           Кронштадт     77           78.632970"
      ]
     },
     "execution_count": 51,
     "metadata": {},
     "output_type": "execute_result"
    }
   ],
   "source": [
    "locality_pivot = df_clean.pivot_table(index=['locality_name'], values=['sq_meter_price_th'], aggfunc=['count', 'mean']).reset_index()\n",
    "locality_pivot.columns=['locality_name', 'count', 'avg_sq_meter_price']\n",
    "top_localities = locality_pivot.sort_values(by='count', ascending=False).head(10)\n",
    "top_localities"
   ]
  },
  {
   "cell_type": "markdown",
   "metadata": {},
   "source": [
    "Выберем 10 населённых пунктов с наибольшим числом объявлений. Посчитаем среднюю цену квадратного метра в этих населённых пунктах."
   ]
  },
  {
   "cell_type": "code",
   "execution_count": 52,
   "metadata": {},
   "outputs": [
    {
     "data": {
      "text/html": [
       "<div>\n",
       "<style scoped>\n",
       "    .dataframe tbody tr th:only-of-type {\n",
       "        vertical-align: middle;\n",
       "    }\n",
       "\n",
       "    .dataframe tbody tr th {\n",
       "        vertical-align: top;\n",
       "    }\n",
       "\n",
       "    .dataframe thead th {\n",
       "        text-align: right;\n",
       "    }\n",
       "</style>\n",
       "<table border=\"1\" class=\"dataframe\">\n",
       "  <thead>\n",
       "    <tr style=\"text-align: right;\">\n",
       "      <th></th>\n",
       "      <th>locality_name</th>\n",
       "      <th>count</th>\n",
       "      <th>avg_sq_meter_price</th>\n",
       "    </tr>\n",
       "  </thead>\n",
       "  <tbody>\n",
       "    <tr>\n",
       "      <td>8</td>\n",
       "      <td>Санкт-Петербург</td>\n",
       "      <td>10771</td>\n",
       "      <td>104.128687</td>\n",
       "    </tr>\n",
       "    <tr>\n",
       "      <td>9</td>\n",
       "      <td>Сестрорецк</td>\n",
       "      <td>129</td>\n",
       "      <td>100.855289</td>\n",
       "    </tr>\n",
       "    <tr>\n",
       "      <td>7</td>\n",
       "      <td>Пушкин</td>\n",
       "      <td>248</td>\n",
       "      <td>98.771875</td>\n",
       "    </tr>\n",
       "    <tr>\n",
       "      <td>17</td>\n",
       "      <td>посёлок Парголово</td>\n",
       "      <td>283</td>\n",
       "      <td>89.416752</td>\n",
       "    </tr>\n",
       "    <tr>\n",
       "      <td>6</td>\n",
       "      <td>Петергоф</td>\n",
       "      <td>154</td>\n",
       "      <td>82.894756</td>\n",
       "    </tr>\n",
       "    <tr>\n",
       "      <td>3</td>\n",
       "      <td>Кронштадт</td>\n",
       "      <td>77</td>\n",
       "      <td>78.632970</td>\n",
       "    </tr>\n",
       "    <tr>\n",
       "      <td>25</td>\n",
       "      <td>посёлок Шушары</td>\n",
       "      <td>373</td>\n",
       "      <td>77.372220</td>\n",
       "    </tr>\n",
       "    <tr>\n",
       "      <td>1</td>\n",
       "      <td>Колпино</td>\n",
       "      <td>285</td>\n",
       "      <td>74.618178</td>\n",
       "    </tr>\n",
       "    <tr>\n",
       "      <td>2</td>\n",
       "      <td>Красное Село</td>\n",
       "      <td>137</td>\n",
       "      <td>72.119097</td>\n",
       "    </tr>\n",
       "    <tr>\n",
       "      <td>4</td>\n",
       "      <td>Ломоносов</td>\n",
       "      <td>93</td>\n",
       "      <td>71.850242</td>\n",
       "    </tr>\n",
       "  </tbody>\n",
       "</table>\n",
       "</div>"
      ],
      "text/plain": [
       "        locality_name  count  avg_sq_meter_price\n",
       "8     Санкт-Петербург  10771          104.128687\n",
       "9          Сестрорецк    129          100.855289\n",
       "7              Пушкин    248           98.771875\n",
       "17  посёлок Парголово    283           89.416752\n",
       "6            Петергоф    154           82.894756\n",
       "3           Кронштадт     77           78.632970\n",
       "25     посёлок Шушары    373           77.372220\n",
       "1             Колпино    285           74.618178\n",
       "2        Красное Село    137           72.119097\n",
       "4           Ломоносов     93           71.850242"
      ]
     },
     "execution_count": 52,
     "metadata": {},
     "output_type": "execute_result"
    }
   ],
   "source": [
    "top_localities.sort_values(by='avg_sq_meter_price', ascending=False)"
   ]
  },
  {
   "cell_type": "markdown",
   "metadata": {},
   "source": [
    "Среди 10 самых продаваемых населенных пунктов наиболее высокая стоимость жилья наблюдается в Санкт-Петербурге, Сестрорецке и Пушкине, самая низкая - в Колпино, Красном Селе и Ломоносове."
   ]
  },
  {
   "cell_type": "markdown",
   "metadata": {},
   "source": [
    "### Центр Санкт-Петербурга"
   ]
  },
  {
   "cell_type": "code",
   "execution_count": 53,
   "metadata": {},
   "outputs": [
    {
     "data": {
      "text/html": [
       "<div>\n",
       "<style scoped>\n",
       "    .dataframe tbody tr th:only-of-type {\n",
       "        vertical-align: middle;\n",
       "    }\n",
       "\n",
       "    .dataframe tbody tr th {\n",
       "        vertical-align: top;\n",
       "    }\n",
       "\n",
       "    .dataframe thead th {\n",
       "        text-align: right;\n",
       "    }\n",
       "</style>\n",
       "<table border=\"1\" class=\"dataframe\">\n",
       "  <thead>\n",
       "    <tr style=\"text-align: right;\">\n",
       "      <th></th>\n",
       "      <th>cityCenters_nearest_km</th>\n",
       "      <th>avg_sq_meter_price</th>\n",
       "    </tr>\n",
       "  </thead>\n",
       "  <tbody>\n",
       "    <tr>\n",
       "      <td>0</td>\n",
       "      <td>0.0</td>\n",
       "      <td>121.139636</td>\n",
       "    </tr>\n",
       "    <tr>\n",
       "      <td>1</td>\n",
       "      <td>1.0</td>\n",
       "      <td>119.699724</td>\n",
       "    </tr>\n",
       "    <tr>\n",
       "      <td>2</td>\n",
       "      <td>2.0</td>\n",
       "      <td>113.731524</td>\n",
       "    </tr>\n",
       "    <tr>\n",
       "      <td>3</td>\n",
       "      <td>3.0</td>\n",
       "      <td>106.934492</td>\n",
       "    </tr>\n",
       "    <tr>\n",
       "      <td>4</td>\n",
       "      <td>4.0</td>\n",
       "      <td>115.266177</td>\n",
       "    </tr>\n",
       "    <tr>\n",
       "      <td>5</td>\n",
       "      <td>5.0</td>\n",
       "      <td>118.476092</td>\n",
       "    </tr>\n",
       "    <tr>\n",
       "      <td>6</td>\n",
       "      <td>6.0</td>\n",
       "      <td>120.856029</td>\n",
       "    </tr>\n",
       "    <tr>\n",
       "      <td>7</td>\n",
       "      <td>7.0</td>\n",
       "      <td>115.133126</td>\n",
       "    </tr>\n",
       "    <tr>\n",
       "      <td>8</td>\n",
       "      <td>8.0</td>\n",
       "      <td>114.798369</td>\n",
       "    </tr>\n",
       "    <tr>\n",
       "      <td>9</td>\n",
       "      <td>9.0</td>\n",
       "      <td>105.819570</td>\n",
       "    </tr>\n",
       "    <tr>\n",
       "      <td>10</td>\n",
       "      <td>10.0</td>\n",
       "      <td>107.034064</td>\n",
       "    </tr>\n",
       "    <tr>\n",
       "      <td>11</td>\n",
       "      <td>11.0</td>\n",
       "      <td>102.651122</td>\n",
       "    </tr>\n",
       "    <tr>\n",
       "      <td>12</td>\n",
       "      <td>12.0</td>\n",
       "      <td>104.830793</td>\n",
       "    </tr>\n",
       "    <tr>\n",
       "      <td>13</td>\n",
       "      <td>13.0</td>\n",
       "      <td>105.160985</td>\n",
       "    </tr>\n",
       "    <tr>\n",
       "      <td>14</td>\n",
       "      <td>14.0</td>\n",
       "      <td>102.413425</td>\n",
       "    </tr>\n",
       "    <tr>\n",
       "      <td>15</td>\n",
       "      <td>15.0</td>\n",
       "      <td>100.855008</td>\n",
       "    </tr>\n",
       "    <tr>\n",
       "      <td>16</td>\n",
       "      <td>16.0</td>\n",
       "      <td>97.790004</td>\n",
       "    </tr>\n",
       "    <tr>\n",
       "      <td>17</td>\n",
       "      <td>17.0</td>\n",
       "      <td>95.288942</td>\n",
       "    </tr>\n",
       "    <tr>\n",
       "      <td>18</td>\n",
       "      <td>18.0</td>\n",
       "      <td>95.154953</td>\n",
       "    </tr>\n",
       "    <tr>\n",
       "      <td>19</td>\n",
       "      <td>19.0</td>\n",
       "      <td>97.562846</td>\n",
       "    </tr>\n",
       "    <tr>\n",
       "      <td>20</td>\n",
       "      <td>20.0</td>\n",
       "      <td>100.094944</td>\n",
       "    </tr>\n",
       "    <tr>\n",
       "      <td>21</td>\n",
       "      <td>21.0</td>\n",
       "      <td>91.000642</td>\n",
       "    </tr>\n",
       "    <tr>\n",
       "      <td>22</td>\n",
       "      <td>22.0</td>\n",
       "      <td>90.015276</td>\n",
       "    </tr>\n",
       "    <tr>\n",
       "      <td>23</td>\n",
       "      <td>23.0</td>\n",
       "      <td>90.147715</td>\n",
       "    </tr>\n",
       "    <tr>\n",
       "      <td>24</td>\n",
       "      <td>24.0</td>\n",
       "      <td>84.566647</td>\n",
       "    </tr>\n",
       "    <tr>\n",
       "      <td>25</td>\n",
       "      <td>25.0</td>\n",
       "      <td>92.342052</td>\n",
       "    </tr>\n",
       "    <tr>\n",
       "      <td>26</td>\n",
       "      <td>26.0</td>\n",
       "      <td>87.832109</td>\n",
       "    </tr>\n",
       "    <tr>\n",
       "      <td>27</td>\n",
       "      <td>27.0</td>\n",
       "      <td>70.312500</td>\n",
       "    </tr>\n",
       "    <tr>\n",
       "      <td>28</td>\n",
       "      <td>28.0</td>\n",
       "      <td>81.161915</td>\n",
       "    </tr>\n",
       "    <tr>\n",
       "      <td>29</td>\n",
       "      <td>29.0</td>\n",
       "      <td>69.715404</td>\n",
       "    </tr>\n",
       "  </tbody>\n",
       "</table>\n",
       "</div>"
      ],
      "text/plain": [
       "    cityCenters_nearest_km  avg_sq_meter_price\n",
       "0                      0.0          121.139636\n",
       "1                      1.0          119.699724\n",
       "2                      2.0          113.731524\n",
       "3                      3.0          106.934492\n",
       "4                      4.0          115.266177\n",
       "5                      5.0          118.476092\n",
       "6                      6.0          120.856029\n",
       "7                      7.0          115.133126\n",
       "8                      8.0          114.798369\n",
       "9                      9.0          105.819570\n",
       "10                    10.0          107.034064\n",
       "11                    11.0          102.651122\n",
       "12                    12.0          104.830793\n",
       "13                    13.0          105.160985\n",
       "14                    14.0          102.413425\n",
       "15                    15.0          100.855008\n",
       "16                    16.0           97.790004\n",
       "17                    17.0           95.288942\n",
       "18                    18.0           95.154953\n",
       "19                    19.0           97.562846\n",
       "20                    20.0          100.094944\n",
       "21                    21.0           91.000642\n",
       "22                    22.0           90.015276\n",
       "23                    23.0           90.147715\n",
       "24                    24.0           84.566647\n",
       "25                    25.0           92.342052\n",
       "26                    26.0           87.832109\n",
       "27                    27.0           70.312500\n",
       "28                    28.0           81.161915\n",
       "29                    29.0           69.715404"
      ]
     },
     "execution_count": 53,
     "metadata": {},
     "output_type": "execute_result"
    }
   ],
   "source": [
    "df_clean['cityCenters_nearest_km'] = round(df_clean['cityCenters_nearest']/1000)\n",
    "spb_flats = df_clean.query('locality_name == \"Санкт-Петербург\"')\n",
    "spb_km_price = spb_flats.pivot_table(index=['cityCenters_nearest_km'], values=['sq_meter_price_th'], aggfunc=['mean']).reset_index()\n",
    "spb_km_price.columns = ['cityCenters_nearest_km', 'avg_sq_meter_price']\n",
    "spb_km_price"
   ]
  },
  {
   "cell_type": "markdown",
   "metadata": {},
   "source": [
    "Создадим столбец с расстоянием до центра в километрах, округлим до целых значений. Выделим квартиры в Санкт-Петербурге и посчитаем среднюю цену за метр жилья для каждого километра. "
   ]
  },
  {
   "cell_type": "code",
   "execution_count": 54,
   "metadata": {
    "scrolled": true
   },
   "outputs": [
    {
     "data": {
      "text/plain": [
       "<matplotlib.axes._subplots.AxesSubplot at 0x7fa354aecd90>"
      ]
     },
     "execution_count": 54,
     "metadata": {},
     "output_type": "execute_result"
    },
    {
     "data": {
      "image/png": "[encoded data removed]",
      "text/plain": [
       "<Figure size 432x288 with 1 Axes>"
      ]
     },
     "metadata": {
      "needs_background": "light"
     },
     "output_type": "display_data"
    },
    {
     "data": {
      "image/png": "[encoded data removed]",
      "text/plain": [
       "<Figure size 432x288 with 1 Axes>"
      ]
     },
     "metadata": {
      "needs_background": "light"
     },
     "output_type": "display_data"
    }
   ],
   "source": [
    "spb_km_price.plot(x='cityCenters_nearest_km', y='avg_sq_meter_price', grid=True, title='center_distance_price')\n",
    "spb_km_price.plot(x='cityCenters_nearest_km', y='avg_sq_meter_price', xlim=(0, 10), grid=True, title='center_distance_price_scaled')"
   ]
  },
  {
   "cell_type": "markdown",
   "metadata": {},
   "source": [
    "Построим график, который показывает, как цена зависит от удалённости от центра. \n",
    "В пределах 6 км удаленности от центра наблюдается некоторые колебания цены за квадрат, однако после этого значения цена имеет убывающий тренд (кроме отдельного пика в области 23 км). Будем считать 6 км границей центра."
   ]
  },
  {
   "cell_type": "code",
   "execution_count": 55,
   "metadata": {},
   "outputs": [],
   "source": [
    "spb_center_flats = spb_flats.query('cityCenters_nearest_km <=7')"
   ]
  },
  {
   "cell_type": "markdown",
   "metadata": {},
   "source": [
    "Выделим сегмент квартир в центре. "
   ]
  },
  {
   "cell_type": "code",
   "execution_count": 56,
   "metadata": {
    "scrolled": true
   },
   "outputs": [
    {
     "data": {
      "text/plain": [
       "<matplotlib.axes._subplots.AxesSubplot at 0x7fa355e1b250>"
      ]
     },
     "execution_count": 56,
     "metadata": {},
     "output_type": "execute_result"
    },
    {
     "data": {
      "image/png": "[encoded data removed]",
      "text/plain": [
       "<Figure size 432x288 with 1 Axes>"
      ]
     },
     "metadata": {
      "needs_background": "light"
     },
     "output_type": "display_data"
    },
    {
     "data": {
      "image/png": "[encoded data removed]",
      "text/plain": [
       "<Figure size 432x288 with 1 Axes>"
      ]
     },
     "metadata": {
      "needs_background": "light"
     },
     "output_type": "display_data"
    },
    {
     "data": {
      "image/png": "[encoded data removed]",
      "text/plain": [
       "<Figure size 432x288 with 1 Axes>"
      ]
     },
     "metadata": {
      "needs_background": "light"
     },
     "output_type": "display_data"
    },
    {
     "data": {
      "image/png": "[encoded data removed]",
      "text/plain": [
       "<Figure size 432x288 with 1 Axes>"
      ]
     },
     "metadata": {
      "needs_background": "light"
     },
     "output_type": "display_data"
    },
    {
     "data": {
      "image/png": "[encoded data removed]",
      "text/plain": [
       "<Figure size 432x288 with 1 Axes>"
      ]
     },
     "metadata": {
      "needs_background": "light"
     },
     "output_type": "display_data"
    },
    {
     "data": {
      "image/png": "[encoded data removed]",
      "text/plain": [
       "<Figure size 432x288 with 1 Axes>"
      ]
     },
     "metadata": {
      "needs_background": "light"
     },
     "output_type": "display_data"
    },
    {
     "data": {
      "image/png": "[encoded data removed]",
      "text/plain": [
       "<Figure size 432x288 with 1 Axes>"
      ]
     },
     "metadata": {
      "needs_background": "light"
     },
     "output_type": "display_data"
    }
   ],
   "source": [
    "spb_center_flats.plot(y='living_area', kind='hist', bins=50, grid=True, title='living_area')\n",
    "spb_center_flats.plot(y='total_area', kind='hist', bins=50, grid=True, title='total_area')\n",
    "spb_center_flats.plot(y='sq_meter_price_th', kind='hist', bins=50, grid=True, title='sq_meter_price_th')\n",
    "spb_center_flats.plot(y='last_price_mln', kind='hist', bins=50, grid=True, title='last_price_mln')\n",
    "spb_center_flats.plot(y='rooms', kind='hist', bins=50, grid=True, title='rooms')\n",
    "spb_center_flats.plot(y='ceiling_height', kind='hist', bins=50, grid=True, title='ceiling_height')\n",
    "spb_center_flats.plot(y='ceiling_height', kind='hist', bins=100, range=(2.5, 3), grid=True, title='ceiling_height_scaled')"
   ]
  },
  {
   "cell_type": "markdown",
   "metadata": {},
   "source": [
    "Проанализируем эту территорию. \n",
    "- Жилая и общая площади, а также высота потолка в центре примерно равны показателям по всей выборке\n",
    "- Хотя самая частая цена за кв.м в центре такая же, как и в других районах, общее распределение цен заметно отличается - в центре основная часть значений лежит правее максимума, в остальной выборке - левее\n",
    "- А вот общая цена квартиры в центре значительно выше - 7 млн (против 4 млн для всей выборки)\n",
    "- В центре гораздно чаще встречаются 2х и 3х комнатные квартиры (а в общей выборке - 1 и 2х-комнатные)"
   ]
  },
  {
   "cell_type": "code",
   "execution_count": 57,
   "metadata": {},
   "outputs": [
    {
     "name": "stdout",
     "output_type": "stream",
     "text": [
      "total_area -0.4907612121496587\n",
      "living_area -0.5189460922477496\n",
      "kitchen_area -0.014743843496424366\n",
      "rooms -0.5421547622412944\n",
      "cityCenters_nearest 0.05562261128911782\n"
     ]
    }
   ],
   "source": [
    "print('total_area', spb_center_flats['sq_meter_price'].corr(spb_center_flats['total_area']))\n",
    "print('living_area', spb_center_flats['sq_meter_price'].corr(spb_center_flats['living_area']))\n",
    "print('kitchen_area', spb_center_flats['sq_meter_price'].corr(spb_center_flats['kitchen_area']))\n",
    "print('rooms', spb_center_flats['sq_meter_price'].corr(spb_center_flats['rooms']))\n",
    "print('cityCenters_nearest', spb_center_flats['sq_meter_price'].corr(spb_center_flats['cityCenters_nearest']))"
   ]
  },
  {
   "cell_type": "markdown",
   "metadata": {},
   "source": [
    "Выделим факторы, которые влияют на стоимость квартиры в центре (число комнат, этаж, удалённость от центра, дата размещения объявления). \n",
    "- Цена за квадратный метр отрицательно зависит от общей площади, жилой площади и числа комнат (корреляция около 0,5 для всех трех параметров - это значительно выше, чем для полной выборки)\n",
    "- Связи цены с удаленностью от центра и площадью кухни теперь почти нет"
   ]
  },
  {
   "cell_type": "code",
   "execution_count": 58,
   "metadata": {},
   "outputs": [
    {
     "name": "stdout",
     "output_type": "stream",
     "text": [
      "total_area 0.7036342613549517\n",
      "living_area 0.5933131511836989\n",
      "kitchen_area 0.46839587324573484\n",
      "rooms 0.4614570962076559\n",
      "cityCenters_nearest -0.1410813430863805\n"
     ]
    }
   ],
   "source": [
    "print('total_area', spb_center_flats['last_price'].corr(spb_center_flats['total_area']))\n",
    "print('living_area', spb_center_flats['last_price'].corr(spb_center_flats['living_area']))\n",
    "print('kitchen_area', spb_center_flats['last_price'].corr(spb_center_flats['kitchen_area']))\n",
    "print('rooms', spb_center_flats['last_price'].corr(spb_center_flats['rooms']))\n",
    "print('cityCenters_nearest', spb_center_flats['last_price'].corr(spb_center_flats['cityCenters_nearest']))"
   ]
  },
  {
   "cell_type": "markdown",
   "metadata": {},
   "source": [
    "Порядок и абсолютные величины корреляции общей цены с различными параметрами схожи с результатами по общей выборке, но зависимость чуть слабее"
   ]
  },
  {
   "cell_type": "code",
   "execution_count": 59,
   "metadata": {},
   "outputs": [
    {
     "data": {
      "text/html": [
       "<div>\n",
       "<style scoped>\n",
       "    .dataframe tbody tr th:only-of-type {\n",
       "        vertical-align: middle;\n",
       "    }\n",
       "\n",
       "    .dataframe tbody tr th {\n",
       "        vertical-align: top;\n",
       "    }\n",
       "\n",
       "    .dataframe thead th {\n",
       "        text-align: right;\n",
       "    }\n",
       "</style>\n",
       "<table border=\"1\" class=\"dataframe\">\n",
       "  <thead>\n",
       "    <tr style=\"text-align: right;\">\n",
       "      <th></th>\n",
       "      <th>exposition_weekday</th>\n",
       "      <th>last_price_mln</th>\n",
       "      <th>sq_meter_price_th</th>\n",
       "    </tr>\n",
       "  </thead>\n",
       "  <tbody>\n",
       "    <tr>\n",
       "      <td>0</td>\n",
       "      <td>0</td>\n",
       "      <td>6.800</td>\n",
       "      <td>111.111111</td>\n",
       "    </tr>\n",
       "    <tr>\n",
       "      <td>1</td>\n",
       "      <td>1</td>\n",
       "      <td>7.100</td>\n",
       "      <td>108.333333</td>\n",
       "    </tr>\n",
       "    <tr>\n",
       "      <td>2</td>\n",
       "      <td>2</td>\n",
       "      <td>6.700</td>\n",
       "      <td>110.942249</td>\n",
       "    </tr>\n",
       "    <tr>\n",
       "      <td>3</td>\n",
       "      <td>3</td>\n",
       "      <td>6.670</td>\n",
       "      <td>109.799887</td>\n",
       "    </tr>\n",
       "    <tr>\n",
       "      <td>4</td>\n",
       "      <td>4</td>\n",
       "      <td>7.290</td>\n",
       "      <td>115.625000</td>\n",
       "    </tr>\n",
       "    <tr>\n",
       "      <td>5</td>\n",
       "      <td>5</td>\n",
       "      <td>6.999</td>\n",
       "      <td>119.607843</td>\n",
       "    </tr>\n",
       "    <tr>\n",
       "      <td>6</td>\n",
       "      <td>6</td>\n",
       "      <td>8.000</td>\n",
       "      <td>110.977242</td>\n",
       "    </tr>\n",
       "  </tbody>\n",
       "</table>\n",
       "</div>"
      ],
      "text/plain": [
       "   exposition_weekday  last_price_mln  sq_meter_price_th\n",
       "0                   0           6.800         111.111111\n",
       "1                   1           7.100         108.333333\n",
       "2                   2           6.700         110.942249\n",
       "3                   3           6.670         109.799887\n",
       "4                   4           7.290         115.625000\n",
       "5                   5           6.999         119.607843\n",
       "6                   6           8.000         110.977242"
      ]
     },
     "execution_count": 59,
     "metadata": {},
     "output_type": "execute_result"
    }
   ],
   "source": [
    "price_weekday_pivot = spb_center_flats.pivot_table(index=['exposition_weekday'], values=['last_price_mln', 'sq_meter_price_th'], aggfunc='median').reset_index()\n",
    "price_weekday_pivot"
   ]
  },
  {
   "cell_type": "markdown",
   "metadata": {},
   "source": [
    "С днями недели дела обстоят немного по другому, чем в общей выборке: теперь самая низкая цена за кв.м наблюдается во вторник, а не в пятницу, а самая высокая - в субботу (для общей выборки -  в среду).\n",
    "Квартиры с самой большой общей ценой выставляются в воскресенье (в общей выборке в воскресенье, наоборот, выкладывали самые дешевые квартиры), а с самой низкой - в середине недели, в среду и четверг. "
   ]
  },
  {
   "cell_type": "code",
   "execution_count": 60,
   "metadata": {},
   "outputs": [
    {
     "data": {
      "text/html": [
       "<div>\n",
       "<style scoped>\n",
       "    .dataframe tbody tr th:only-of-type {\n",
       "        vertical-align: middle;\n",
       "    }\n",
       "\n",
       "    .dataframe tbody tr th {\n",
       "        vertical-align: top;\n",
       "    }\n",
       "\n",
       "    .dataframe thead th {\n",
       "        text-align: right;\n",
       "    }\n",
       "</style>\n",
       "<table border=\"1\" class=\"dataframe\">\n",
       "  <thead>\n",
       "    <tr style=\"text-align: right;\">\n",
       "      <th></th>\n",
       "      <th>exposition_month</th>\n",
       "      <th>last_price_mln</th>\n",
       "      <th>sq_meter_price_th</th>\n",
       "    </tr>\n",
       "  </thead>\n",
       "  <tbody>\n",
       "    <tr>\n",
       "      <td>0</td>\n",
       "      <td>1</td>\n",
       "      <td>7.00</td>\n",
       "      <td>110.473458</td>\n",
       "    </tr>\n",
       "    <tr>\n",
       "      <td>1</td>\n",
       "      <td>2</td>\n",
       "      <td>7.30</td>\n",
       "      <td>112.688646</td>\n",
       "    </tr>\n",
       "    <tr>\n",
       "      <td>2</td>\n",
       "      <td>3</td>\n",
       "      <td>7.30</td>\n",
       "      <td>121.568627</td>\n",
       "    </tr>\n",
       "    <tr>\n",
       "      <td>3</td>\n",
       "      <td>4</td>\n",
       "      <td>6.85</td>\n",
       "      <td>110.000000</td>\n",
       "    </tr>\n",
       "    <tr>\n",
       "      <td>4</td>\n",
       "      <td>5</td>\n",
       "      <td>6.90</td>\n",
       "      <td>113.247863</td>\n",
       "    </tr>\n",
       "    <tr>\n",
       "      <td>5</td>\n",
       "      <td>6</td>\n",
       "      <td>6.98</td>\n",
       "      <td>107.716049</td>\n",
       "    </tr>\n",
       "    <tr>\n",
       "      <td>6</td>\n",
       "      <td>7</td>\n",
       "      <td>7.00</td>\n",
       "      <td>110.000000</td>\n",
       "    </tr>\n",
       "    <tr>\n",
       "      <td>7</td>\n",
       "      <td>8</td>\n",
       "      <td>6.70</td>\n",
       "      <td>113.093267</td>\n",
       "    </tr>\n",
       "    <tr>\n",
       "      <td>8</td>\n",
       "      <td>9</td>\n",
       "      <td>7.20</td>\n",
       "      <td>111.904762</td>\n",
       "    </tr>\n",
       "    <tr>\n",
       "      <td>9</td>\n",
       "      <td>10</td>\n",
       "      <td>6.80</td>\n",
       "      <td>108.653846</td>\n",
       "    </tr>\n",
       "    <tr>\n",
       "      <td>10</td>\n",
       "      <td>11</td>\n",
       "      <td>6.80</td>\n",
       "      <td>108.163265</td>\n",
       "    </tr>\n",
       "    <tr>\n",
       "      <td>11</td>\n",
       "      <td>12</td>\n",
       "      <td>6.70</td>\n",
       "      <td>110.843373</td>\n",
       "    </tr>\n",
       "  </tbody>\n",
       "</table>\n",
       "</div>"
      ],
      "text/plain": [
       "    exposition_month  last_price_mln  sq_meter_price_th\n",
       "0                  1            7.00         110.473458\n",
       "1                  2            7.30         112.688646\n",
       "2                  3            7.30         121.568627\n",
       "3                  4            6.85         110.000000\n",
       "4                  5            6.90         113.247863\n",
       "5                  6            6.98         107.716049\n",
       "6                  7            7.00         110.000000\n",
       "7                  8            6.70         113.093267\n",
       "8                  9            7.20         111.904762\n",
       "9                 10            6.80         108.653846\n",
       "10                11            6.80         108.163265\n",
       "11                12            6.70         110.843373"
      ]
     },
     "execution_count": 60,
     "metadata": {},
     "output_type": "execute_result"
    }
   ],
   "source": [
    "price_month_pivot = spb_center_flats.pivot_table(index=['exposition_month'], values=['last_price_mln', 'sq_meter_price_th'], aggfunc='median').reset_index()\n",
    "price_month_pivot"
   ]
  },
  {
   "cell_type": "markdown",
   "metadata": {},
   "source": [
    "Цена за кв.м:\n",
    "Пик цен виден в марте, относительно высоки цены в мае и августе, чуть ниже - в зимний период, на уровне около 110 тыс. за кв.м. Самые низкие цены наблюдаются в июне (для общей выборки спад был чуть раньше - в мае). \n",
    "\n",
    "Итоговые цены:\n",
    "В лидерах февраль-март и сентябрь, дешевле всего - в августе и декабре (в общей выборке декабрь, наоборот, был самым дорогим месяцем)."
   ]
  },
  {
   "cell_type": "code",
   "execution_count": 61,
   "metadata": {},
   "outputs": [
    {
     "data": {
      "text/html": [
       "<div>\n",
       "<style scoped>\n",
       "    .dataframe tbody tr th:only-of-type {\n",
       "        vertical-align: middle;\n",
       "    }\n",
       "\n",
       "    .dataframe tbody tr th {\n",
       "        vertical-align: top;\n",
       "    }\n",
       "\n",
       "    .dataframe thead th {\n",
       "        text-align: right;\n",
       "    }\n",
       "</style>\n",
       "<table border=\"1\" class=\"dataframe\">\n",
       "  <thead>\n",
       "    <tr style=\"text-align: right;\">\n",
       "      <th></th>\n",
       "      <th>exposition_year</th>\n",
       "      <th>last_price_mln</th>\n",
       "      <th>sq_meter_price_th</th>\n",
       "    </tr>\n",
       "  </thead>\n",
       "  <tbody>\n",
       "    <tr>\n",
       "      <td>0</td>\n",
       "      <td>2015</td>\n",
       "      <td>6.600</td>\n",
       "      <td>101.836735</td>\n",
       "    </tr>\n",
       "    <tr>\n",
       "      <td>1</td>\n",
       "      <td>2016</td>\n",
       "      <td>6.860</td>\n",
       "      <td>106.557377</td>\n",
       "    </tr>\n",
       "    <tr>\n",
       "      <td>2</td>\n",
       "      <td>2017</td>\n",
       "      <td>6.965</td>\n",
       "      <td>109.640870</td>\n",
       "    </tr>\n",
       "    <tr>\n",
       "      <td>3</td>\n",
       "      <td>2018</td>\n",
       "      <td>6.970</td>\n",
       "      <td>115.076428</td>\n",
       "    </tr>\n",
       "    <tr>\n",
       "      <td>4</td>\n",
       "      <td>2019</td>\n",
       "      <td>7.300</td>\n",
       "      <td>126.946966</td>\n",
       "    </tr>\n",
       "  </tbody>\n",
       "</table>\n",
       "</div>"
      ],
      "text/plain": [
       "   exposition_year  last_price_mln  sq_meter_price_th\n",
       "0             2015           6.600         101.836735\n",
       "1             2016           6.860         106.557377\n",
       "2             2017           6.965         109.640870\n",
       "3             2018           6.970         115.076428\n",
       "4             2019           7.300         126.946966"
      ]
     },
     "execution_count": 61,
     "metadata": {},
     "output_type": "execute_result"
    }
   ],
   "source": [
    "price_year_pivot = spb_center_flats.pivot_table(index=['exposition_year'], values=['last_price_mln', 'sq_meter_price_th'], aggfunc='median').reset_index()\n",
    "price_year_pivot"
   ]
  },
  {
   "cell_type": "code",
   "execution_count": 62,
   "metadata": {},
   "outputs": [
    {
     "data": {
      "text/html": [
       "<div>\n",
       "<style scoped>\n",
       "    .dataframe tbody tr th:only-of-type {\n",
       "        vertical-align: middle;\n",
       "    }\n",
       "\n",
       "    .dataframe tbody tr th {\n",
       "        vertical-align: top;\n",
       "    }\n",
       "\n",
       "    .dataframe thead th {\n",
       "        text-align: right;\n",
       "    }\n",
       "</style>\n",
       "<table border=\"1\" class=\"dataframe\">\n",
       "  <thead>\n",
       "    <tr style=\"text-align: right;\">\n",
       "      <th></th>\n",
       "      <th>floor_group</th>\n",
       "      <th>last_price_mln</th>\n",
       "      <th>sq_meter_price_th</th>\n",
       "    </tr>\n",
       "  </thead>\n",
       "  <tbody>\n",
       "    <tr>\n",
       "      <td>0</td>\n",
       "      <td>другой</td>\n",
       "      <td>7.30</td>\n",
       "      <td>115.103996</td>\n",
       "    </tr>\n",
       "    <tr>\n",
       "      <td>1</td>\n",
       "      <td>первый</td>\n",
       "      <td>5.65</td>\n",
       "      <td>102.604167</td>\n",
       "    </tr>\n",
       "    <tr>\n",
       "      <td>2</td>\n",
       "      <td>последний</td>\n",
       "      <td>7.00</td>\n",
       "      <td>106.523058</td>\n",
       "    </tr>\n",
       "  </tbody>\n",
       "</table>\n",
       "</div>"
      ],
      "text/plain": [
       "  floor_group  last_price_mln  sq_meter_price_th\n",
       "0      другой            7.30         115.103996\n",
       "1      первый            5.65         102.604167\n",
       "2   последний            7.00         106.523058"
      ]
     },
     "execution_count": 62,
     "metadata": {},
     "output_type": "execute_result"
    }
   ],
   "source": [
    "price_floor_pivot = spb_center_flats.pivot_table(index=['floor_group'], values=['last_price_mln', 'sq_meter_price_th'], aggfunc='median').reset_index()\n",
    "price_floor_pivot"
   ]
  },
  {
   "cell_type": "markdown",
   "metadata": {},
   "source": [
    "Рост цен от года к году и нелюбовь покупателей к первым и последним этажам наблюдается как для центра города, так и в общей выборке."
   ]
  },
  {
   "cell_type": "markdown",
   "metadata": {},
   "source": [
    "## Общий вывод"
   ]
  },
  {
   "cell_type": "markdown",
   "metadata": {},
   "source": [
    "В работе проанализированы основные характеристики квартир в Санкт-Петербурге и области, выявлено влияние различных факторов на цену жилья.\n",
    "\n",
    "- Общая и жилая площадь примерно равны в центре и в общей выборке, наиболее частые значения составляют 45 и 18 кв.м соответственно\n",
    "- Обычно цена за кв.м для центра и других районов схожа и составляет 100 тыс, однако в центре основная часть значений больше 100, а в других районах - преимущественно меньше 100\n",
    "- В центре квартиры заметно дороже: если во всей выборке итоговые цены сосредоточены вокруг 4 млн, то в центре - вокруг 7 млн\n",
    "- По всей выборке чаще встречаются однушки и двушки, а в центре самый популярный формат - это 2х и 3х-комнатные квартиры\n",
    "- Высота потолка в обоих случаях сосредоточена в районе 2,65 м\n",
    "- Среди топ-10 населенных пунктов с наибольших количеством объявлений о продаже самое дорогое жилье в Санкт-Петербурге, Сестрорецке и Пушкине, самое бюджетное - в Колпино, Красном Селе и Ломоносове."
   ]
  },
  {
   "cell_type": "markdown",
   "metadata": {},
   "source": [
    "- Среди факторов, определяющих цену квартиры, самые значимые - это площадь и количество комнат, с ростом этих параметров увеличивается общая цена квартиры и снижается цена за квадратный метр\n",
    "- Наблюдается однозначная закономерность роста цен из года в год. Квартиры на первом и последнем этажах дешевле прочих. - эти выводы актуальны для всех районов, в т.ч. для центра. \n",
    "- Зависимость между днем размещения объявления и ценой квартиры неоднозначна\n",
    "- В общей выборке прослеживается сезонность в ценах на квартиры - в зимние месяцы цены относительно высоки, в мае заметен спад, начиная с августа цены вновь плавно растут до декабря. Для центра города такой закономерности нет"
   ]
  }
 ],
 "metadata": {
  "ExecuteTimeLog": [
   {
    "duration": 707,
    "start_time": "2021-07-18T16:04:43.810Z"
   },
   {
    "duration": 33,
    "start_time": "2021-07-18T16:04:44.519Z"
   },
   {
    "duration": 8,
    "start_time": "2021-07-18T16:04:44.556Z"
   },
   {
    "duration": 4,
    "start_time": "2021-07-18T16:04:44.566Z"
   },
   {
    "duration": 35,
    "start_time": "2021-07-18T16:04:44.572Z"
   },
   {
    "duration": 32,
    "start_time": "2021-07-18T16:04:44.609Z"
   },
   {
    "duration": 584,
    "start_time": "2021-07-18T16:04:44.643Z"
   },
   {
    "duration": 149,
    "start_time": "2021-07-18T16:04:45.230Z"
   },
   {
    "duration": 5,
    "start_time": "2021-07-18T16:04:45.381Z"
   },
   {
    "duration": 18,
    "start_time": "2021-07-18T16:04:45.388Z"
   },
   {
    "duration": 44,
    "start_time": "2021-07-18T16:04:45.412Z"
   },
   {
    "duration": 27418,
    "start_time": "2021-07-18T16:04:45.458Z"
   },
   {
    "duration": 12,
    "start_time": "2021-07-18T16:05:12.878Z"
   },
   {
    "duration": 20,
    "start_time": "2021-07-18T16:05:12.892Z"
   },
   {
    "duration": 29,
    "start_time": "2021-07-18T16:05:12.914Z"
   },
   {
    "duration": 14347,
    "start_time": "2021-07-18T16:05:12.945Z"
   },
   {
    "duration": 724,
    "start_time": "2021-07-18T16:05:27.294Z"
   },
   {
    "duration": 10,
    "start_time": "2021-07-18T16:05:28.019Z"
   },
   {
    "duration": 10,
    "start_time": "2021-07-18T16:05:28.031Z"
   },
   {
    "duration": 5,
    "start_time": "2021-07-18T16:05:28.043Z"
   },
   {
    "duration": 20,
    "start_time": "2021-07-18T16:05:28.050Z"
   },
   {
    "duration": 21,
    "start_time": "2021-07-18T16:05:28.071Z"
   },
   {
    "duration": 14,
    "start_time": "2021-07-18T16:05:28.096Z"
   },
   {
    "duration": 62,
    "start_time": "2021-07-18T16:05:28.112Z"
   },
   {
    "duration": 4,
    "start_time": "2021-07-18T16:05:28.175Z"
   },
   {
    "duration": 20,
    "start_time": "2021-07-18T16:05:28.180Z"
   },
   {
    "duration": 12,
    "start_time": "2021-07-18T16:05:28.202Z"
   },
   {
    "duration": 576,
    "start_time": "2021-07-18T16:05:28.216Z"
   },
   {
    "duration": 6,
    "start_time": "2021-07-18T16:05:28.793Z"
   },
   {
    "duration": 3309,
    "start_time": "2021-07-18T16:05:28.801Z"
   },
   {
    "duration": 3321,
    "start_time": "2021-07-18T16:05:32.112Z"
   },
   {
    "duration": 3515,
    "start_time": "2021-07-18T16:05:35.435Z"
   },
   {
    "duration": 255,
    "start_time": "2021-07-18T16:05:38.952Z"
   },
   {
    "duration": 771,
    "start_time": "2021-07-18T16:05:39.209Z"
   },
   {
    "duration": 1426,
    "start_time": "2021-07-18T16:05:39.982Z"
   },
   {
    "duration": 149,
    "start_time": "2021-07-18T16:05:41.409Z"
   },
   {
    "duration": 71,
    "start_time": "2021-07-18T16:05:41.559Z"
   },
   {
    "duration": 159,
    "start_time": "2021-07-18T16:05:41.641Z"
   },
   {
    "duration": 269,
    "start_time": "2021-07-18T16:05:41.801Z"
   },
   {
    "duration": 138,
    "start_time": "2021-07-18T16:05:42.072Z"
   },
   {
    "duration": 138,
    "start_time": "2021-07-18T16:05:42.211Z"
   },
   {
    "duration": 143,
    "start_time": "2021-07-18T16:05:42.351Z"
   },
   {
    "duration": 144,
    "start_time": "2021-07-18T16:05:42.496Z"
   },
   {
    "duration": 74,
    "start_time": "2021-07-18T16:05:42.642Z"
   },
   {
    "duration": 24,
    "start_time": "2021-07-18T16:05:42.718Z"
   },
   {
    "duration": 11,
    "start_time": "2021-07-18T16:05:42.745Z"
   },
   {
    "duration": 13,
    "start_time": "2021-07-18T16:05:42.758Z"
   },
   {
    "duration": 13,
    "start_time": "2021-07-18T16:05:42.773Z"
   },
   {
    "duration": 13,
    "start_time": "2021-07-18T16:05:42.787Z"
   },
   {
    "duration": 49,
    "start_time": "2021-07-18T16:05:42.802Z"
   },
   {
    "duration": 23,
    "start_time": "2021-07-18T16:05:42.853Z"
   },
   {
    "duration": 8,
    "start_time": "2021-07-18T16:05:42.877Z"
   },
   {
    "duration": 22,
    "start_time": "2021-07-18T16:05:42.887Z"
   },
   {
    "duration": 381,
    "start_time": "2021-07-18T16:05:42.910Z"
   },
   {
    "duration": 6,
    "start_time": "2021-07-18T16:05:43.293Z"
   },
   {
    "duration": 2132,
    "start_time": "2021-07-18T16:05:43.301Z"
   },
   {
    "duration": 11,
    "start_time": "2021-07-18T16:05:45.440Z"
   },
   {
    "duration": 9,
    "start_time": "2021-07-18T16:05:45.453Z"
   },
   {
    "duration": 14,
    "start_time": "2021-07-18T16:05:45.464Z"
   },
   {
    "duration": 12,
    "start_time": "2021-07-18T16:05:45.480Z"
   },
   {
    "duration": 17,
    "start_time": "2021-07-18T16:05:45.494Z"
   },
   {
    "duration": 19,
    "start_time": "2021-07-18T16:05:45.542Z"
   }
  ],
  "kernelspec": {
   "display_name": "Python 3",
   "language": "python",
   "name": "python3"
  },
  "language_info": {
   "codemirror_mode": {
    "name": "ipython",
    "version": 3
   },
   "file_extension": ".py",
   "mimetype": "text/x-python",
   "name": "python",
   "nbconvert_exporter": "python",
   "pygments_lexer": "ipython3",
   "version": "3.7.10"
  },
  "toc": {
   "base_numbering": 1,
   "nav_menu": {},
   "number_sections": true,
   "sideBar": true,
   "skip_h1_title": true,
   "title_cell": "Содержание",
   "title_sidebar": "Contents",
   "toc_cell": true,
   "toc_position": {
    "height": "calc(100% - 180px)",
    "left": "10px",
    "top": "150px",
    "width": "208px"
   },
   "toc_section_display": true,
   "toc_window_display": true
  }
 },
 "nbformat": 4,
 "nbformat_minor": 2
}
